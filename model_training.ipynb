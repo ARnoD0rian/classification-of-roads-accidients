{
 "cells": [
  {
   "cell_type": "code",
   "execution_count": 3,
   "metadata": {},
   "outputs": [],
   "source": [
    "import yaml\n",
    "with open('config.yaml', 'r') as config:\n",
    "    cfg = yaml.safe_load(config)"
   ]
  },
  {
   "cell_type": "code",
   "execution_count": 4,
   "metadata": {},
   "outputs": [],
   "source": [
    "import pandas as pd\n",
    "import numpy as np\n",
    "from numpy.typing import NDArray\n",
    "from matplotlib import pyplot as plt\n",
    "import json"
   ]
  },
  {
   "cell_type": "code",
   "execution_count": 5,
   "metadata": {},
   "outputs": [],
   "source": [
    "from sklearn.preprocessing import StandardScaler, LabelEncoder, OneHotEncoder\n",
    "from sklearn.model_selection import train_test_split\n",
    "from sklearn.base import BaseEstimator, TransformerMixin\n",
    "from sklearn.neighbors import KNeighborsClassifier\n",
    "from sklearn.metrics import accuracy_score\n",
    "from sklearn.tree import DecisionTreeClassifier, plot_tree\n",
    "from sklearn.ensemble import RandomForestClassifier, BaggingClassifier, HistGradientBoostingClassifier, GradientBoostingClassifier\n",
    "from sklearn.svm import SVC\n",
    "from sklearn.linear_model import LogisticRegression\n",
    "from sklearn.naive_bayes import GaussianNB\n",
    "from sklearn.discriminant_analysis import LinearDiscriminantAnalysis\n",
    "import category_encoders as ce\n",
    "from sklearn.utils import shuffle\n",
    "from typing import List, Tuple"
   ]
  },
  {
   "cell_type": "code",
   "execution_count": 6,
   "metadata": {},
   "outputs": [],
   "source": [
    "dataset = pd.read_csv(cfg[\"dataset_maus\"])[:10**5]"
   ]
  },
  {
   "cell_type": "code",
   "execution_count": 7,
   "metadata": {},
   "outputs": [],
   "source": [
    "df = shuffle(dataset)[:10**5]"
   ]
  },
  {
   "cell_type": "code",
   "execution_count": 8,
   "metadata": {},
   "outputs": [
    {
     "data": {
      "text/html": [
       "<div>\n",
       "<style scoped>\n",
       "    .dataframe tbody tr th:only-of-type {\n",
       "        vertical-align: middle;\n",
       "    }\n",
       "\n",
       "    .dataframe tbody tr th {\n",
       "        vertical-align: top;\n",
       "    }\n",
       "\n",
       "    .dataframe thead th {\n",
       "        text-align: right;\n",
       "    }\n",
       "</style>\n",
       "<table border=\"1\" class=\"dataframe\">\n",
       "  <thead>\n",
       "    <tr style=\"text-align: right;\">\n",
       "      <th></th>\n",
       "      <th>ID</th>\n",
       "      <th>Source</th>\n",
       "      <th>Severity</th>\n",
       "      <th>Start_Time</th>\n",
       "      <th>End_Time</th>\n",
       "      <th>Start_Lat</th>\n",
       "      <th>Start_Lng</th>\n",
       "      <th>End_Lat</th>\n",
       "      <th>End_Lng</th>\n",
       "      <th>Distance(mi)</th>\n",
       "      <th>...</th>\n",
       "      <th>Roundabout</th>\n",
       "      <th>Station</th>\n",
       "      <th>Stop</th>\n",
       "      <th>Traffic_Calming</th>\n",
       "      <th>Traffic_Signal</th>\n",
       "      <th>Turning_Loop</th>\n",
       "      <th>Sunrise_Sunset</th>\n",
       "      <th>Civil_Twilight</th>\n",
       "      <th>Nautical_Twilight</th>\n",
       "      <th>Astronomical_Twilight</th>\n",
       "    </tr>\n",
       "  </thead>\n",
       "  <tbody>\n",
       "    <tr>\n",
       "      <th>0</th>\n",
       "      <td>A-1</td>\n",
       "      <td>Source2</td>\n",
       "      <td>3</td>\n",
       "      <td>2016-02-08 05:46:00</td>\n",
       "      <td>2016-02-08 11:00:00</td>\n",
       "      <td>39.865147</td>\n",
       "      <td>-84.058723</td>\n",
       "      <td>NaN</td>\n",
       "      <td>NaN</td>\n",
       "      <td>0.01</td>\n",
       "      <td>...</td>\n",
       "      <td>False</td>\n",
       "      <td>False</td>\n",
       "      <td>False</td>\n",
       "      <td>False</td>\n",
       "      <td>False</td>\n",
       "      <td>False</td>\n",
       "      <td>Night</td>\n",
       "      <td>Night</td>\n",
       "      <td>Night</td>\n",
       "      <td>Night</td>\n",
       "    </tr>\n",
       "    <tr>\n",
       "      <th>1</th>\n",
       "      <td>A-2</td>\n",
       "      <td>Source2</td>\n",
       "      <td>2</td>\n",
       "      <td>2016-02-08 06:07:59</td>\n",
       "      <td>2016-02-08 06:37:59</td>\n",
       "      <td>39.928059</td>\n",
       "      <td>-82.831184</td>\n",
       "      <td>NaN</td>\n",
       "      <td>NaN</td>\n",
       "      <td>0.01</td>\n",
       "      <td>...</td>\n",
       "      <td>False</td>\n",
       "      <td>False</td>\n",
       "      <td>False</td>\n",
       "      <td>False</td>\n",
       "      <td>False</td>\n",
       "      <td>False</td>\n",
       "      <td>Night</td>\n",
       "      <td>Night</td>\n",
       "      <td>Night</td>\n",
       "      <td>Day</td>\n",
       "    </tr>\n",
       "    <tr>\n",
       "      <th>2</th>\n",
       "      <td>A-3</td>\n",
       "      <td>Source2</td>\n",
       "      <td>2</td>\n",
       "      <td>2016-02-08 06:49:27</td>\n",
       "      <td>2016-02-08 07:19:27</td>\n",
       "      <td>39.063148</td>\n",
       "      <td>-84.032608</td>\n",
       "      <td>NaN</td>\n",
       "      <td>NaN</td>\n",
       "      <td>0.01</td>\n",
       "      <td>...</td>\n",
       "      <td>False</td>\n",
       "      <td>False</td>\n",
       "      <td>False</td>\n",
       "      <td>False</td>\n",
       "      <td>True</td>\n",
       "      <td>False</td>\n",
       "      <td>Night</td>\n",
       "      <td>Night</td>\n",
       "      <td>Day</td>\n",
       "      <td>Day</td>\n",
       "    </tr>\n",
       "    <tr>\n",
       "      <th>3</th>\n",
       "      <td>A-4</td>\n",
       "      <td>Source2</td>\n",
       "      <td>3</td>\n",
       "      <td>2016-02-08 07:23:34</td>\n",
       "      <td>2016-02-08 07:53:34</td>\n",
       "      <td>39.747753</td>\n",
       "      <td>-84.205582</td>\n",
       "      <td>NaN</td>\n",
       "      <td>NaN</td>\n",
       "      <td>0.01</td>\n",
       "      <td>...</td>\n",
       "      <td>False</td>\n",
       "      <td>False</td>\n",
       "      <td>False</td>\n",
       "      <td>False</td>\n",
       "      <td>False</td>\n",
       "      <td>False</td>\n",
       "      <td>Night</td>\n",
       "      <td>Day</td>\n",
       "      <td>Day</td>\n",
       "      <td>Day</td>\n",
       "    </tr>\n",
       "    <tr>\n",
       "      <th>4</th>\n",
       "      <td>A-5</td>\n",
       "      <td>Source2</td>\n",
       "      <td>2</td>\n",
       "      <td>2016-02-08 07:39:07</td>\n",
       "      <td>2016-02-08 08:09:07</td>\n",
       "      <td>39.627781</td>\n",
       "      <td>-84.188354</td>\n",
       "      <td>NaN</td>\n",
       "      <td>NaN</td>\n",
       "      <td>0.01</td>\n",
       "      <td>...</td>\n",
       "      <td>False</td>\n",
       "      <td>False</td>\n",
       "      <td>False</td>\n",
       "      <td>False</td>\n",
       "      <td>True</td>\n",
       "      <td>False</td>\n",
       "      <td>Day</td>\n",
       "      <td>Day</td>\n",
       "      <td>Day</td>\n",
       "      <td>Day</td>\n",
       "    </tr>\n",
       "    <tr>\n",
       "      <th>...</th>\n",
       "      <td>...</td>\n",
       "      <td>...</td>\n",
       "      <td>...</td>\n",
       "      <td>...</td>\n",
       "      <td>...</td>\n",
       "      <td>...</td>\n",
       "      <td>...</td>\n",
       "      <td>...</td>\n",
       "      <td>...</td>\n",
       "      <td>...</td>\n",
       "      <td>...</td>\n",
       "      <td>...</td>\n",
       "      <td>...</td>\n",
       "      <td>...</td>\n",
       "      <td>...</td>\n",
       "      <td>...</td>\n",
       "      <td>...</td>\n",
       "      <td>...</td>\n",
       "      <td>...</td>\n",
       "      <td>...</td>\n",
       "      <td>...</td>\n",
       "    </tr>\n",
       "    <tr>\n",
       "      <th>99995</th>\n",
       "      <td>A-100002</td>\n",
       "      <td>Source2</td>\n",
       "      <td>3</td>\n",
       "      <td>2016-04-05 15:52:14</td>\n",
       "      <td>2016-04-05 16:52:14</td>\n",
       "      <td>32.731979</td>\n",
       "      <td>-117.111244</td>\n",
       "      <td>NaN</td>\n",
       "      <td>NaN</td>\n",
       "      <td>0.00</td>\n",
       "      <td>...</td>\n",
       "      <td>False</td>\n",
       "      <td>False</td>\n",
       "      <td>False</td>\n",
       "      <td>False</td>\n",
       "      <td>False</td>\n",
       "      <td>False</td>\n",
       "      <td>Day</td>\n",
       "      <td>Day</td>\n",
       "      <td>Day</td>\n",
       "      <td>Day</td>\n",
       "    </tr>\n",
       "    <tr>\n",
       "      <th>99996</th>\n",
       "      <td>A-100003</td>\n",
       "      <td>Source2</td>\n",
       "      <td>3</td>\n",
       "      <td>2016-04-05 15:57:10</td>\n",
       "      <td>2016-04-05 16:57:10</td>\n",
       "      <td>33.913029</td>\n",
       "      <td>-118.125389</td>\n",
       "      <td>NaN</td>\n",
       "      <td>NaN</td>\n",
       "      <td>0.00</td>\n",
       "      <td>...</td>\n",
       "      <td>False</td>\n",
       "      <td>False</td>\n",
       "      <td>False</td>\n",
       "      <td>False</td>\n",
       "      <td>False</td>\n",
       "      <td>False</td>\n",
       "      <td>Day</td>\n",
       "      <td>Day</td>\n",
       "      <td>Day</td>\n",
       "      <td>Day</td>\n",
       "    </tr>\n",
       "    <tr>\n",
       "      <th>99997</th>\n",
       "      <td>A-100004</td>\n",
       "      <td>Source2</td>\n",
       "      <td>2</td>\n",
       "      <td>2016-04-05 16:02:16</td>\n",
       "      <td>2016-04-05 17:02:16</td>\n",
       "      <td>34.121517</td>\n",
       "      <td>-117.536896</td>\n",
       "      <td>NaN</td>\n",
       "      <td>NaN</td>\n",
       "      <td>0.00</td>\n",
       "      <td>...</td>\n",
       "      <td>False</td>\n",
       "      <td>False</td>\n",
       "      <td>False</td>\n",
       "      <td>False</td>\n",
       "      <td>True</td>\n",
       "      <td>False</td>\n",
       "      <td>Day</td>\n",
       "      <td>Day</td>\n",
       "      <td>Day</td>\n",
       "      <td>Day</td>\n",
       "    </tr>\n",
       "    <tr>\n",
       "      <th>99998</th>\n",
       "      <td>A-100005</td>\n",
       "      <td>Source3</td>\n",
       "      <td>2</td>\n",
       "      <td>2016-04-05 16:01:17</td>\n",
       "      <td>2016-04-05 17:01:17</td>\n",
       "      <td>33.995079</td>\n",
       "      <td>-117.361183</td>\n",
       "      <td>NaN</td>\n",
       "      <td>NaN</td>\n",
       "      <td>0.00</td>\n",
       "      <td>...</td>\n",
       "      <td>False</td>\n",
       "      <td>False</td>\n",
       "      <td>False</td>\n",
       "      <td>False</td>\n",
       "      <td>False</td>\n",
       "      <td>False</td>\n",
       "      <td>Day</td>\n",
       "      <td>Day</td>\n",
       "      <td>Day</td>\n",
       "      <td>Day</td>\n",
       "    </tr>\n",
       "    <tr>\n",
       "      <th>99999</th>\n",
       "      <td>A-100006</td>\n",
       "      <td>Source2</td>\n",
       "      <td>2</td>\n",
       "      <td>2016-04-05 16:06:41</td>\n",
       "      <td>2016-04-05 17:06:41</td>\n",
       "      <td>34.034119</td>\n",
       "      <td>-118.013443</td>\n",
       "      <td>NaN</td>\n",
       "      <td>NaN</td>\n",
       "      <td>0.00</td>\n",
       "      <td>...</td>\n",
       "      <td>False</td>\n",
       "      <td>False</td>\n",
       "      <td>False</td>\n",
       "      <td>False</td>\n",
       "      <td>False</td>\n",
       "      <td>False</td>\n",
       "      <td>Day</td>\n",
       "      <td>Day</td>\n",
       "      <td>Day</td>\n",
       "      <td>Day</td>\n",
       "    </tr>\n",
       "  </tbody>\n",
       "</table>\n",
       "<p>100000 rows × 46 columns</p>\n",
       "</div>"
      ],
      "text/plain": [
       "             ID   Source  Severity           Start_Time             End_Time  \\\n",
       "0           A-1  Source2         3  2016-02-08 05:46:00  2016-02-08 11:00:00   \n",
       "1           A-2  Source2         2  2016-02-08 06:07:59  2016-02-08 06:37:59   \n",
       "2           A-3  Source2         2  2016-02-08 06:49:27  2016-02-08 07:19:27   \n",
       "3           A-4  Source2         3  2016-02-08 07:23:34  2016-02-08 07:53:34   \n",
       "4           A-5  Source2         2  2016-02-08 07:39:07  2016-02-08 08:09:07   \n",
       "...         ...      ...       ...                  ...                  ...   \n",
       "99995  A-100002  Source2         3  2016-04-05 15:52:14  2016-04-05 16:52:14   \n",
       "99996  A-100003  Source2         3  2016-04-05 15:57:10  2016-04-05 16:57:10   \n",
       "99997  A-100004  Source2         2  2016-04-05 16:02:16  2016-04-05 17:02:16   \n",
       "99998  A-100005  Source3         2  2016-04-05 16:01:17  2016-04-05 17:01:17   \n",
       "99999  A-100006  Source2         2  2016-04-05 16:06:41  2016-04-05 17:06:41   \n",
       "\n",
       "       Start_Lat   Start_Lng  End_Lat  End_Lng  Distance(mi)  ... Roundabout  \\\n",
       "0      39.865147  -84.058723      NaN      NaN          0.01  ...      False   \n",
       "1      39.928059  -82.831184      NaN      NaN          0.01  ...      False   \n",
       "2      39.063148  -84.032608      NaN      NaN          0.01  ...      False   \n",
       "3      39.747753  -84.205582      NaN      NaN          0.01  ...      False   \n",
       "4      39.627781  -84.188354      NaN      NaN          0.01  ...      False   \n",
       "...          ...         ...      ...      ...           ...  ...        ...   \n",
       "99995  32.731979 -117.111244      NaN      NaN          0.00  ...      False   \n",
       "99996  33.913029 -118.125389      NaN      NaN          0.00  ...      False   \n",
       "99997  34.121517 -117.536896      NaN      NaN          0.00  ...      False   \n",
       "99998  33.995079 -117.361183      NaN      NaN          0.00  ...      False   \n",
       "99999  34.034119 -118.013443      NaN      NaN          0.00  ...      False   \n",
       "\n",
       "      Station   Stop Traffic_Calming Traffic_Signal Turning_Loop  \\\n",
       "0       False  False           False          False        False   \n",
       "1       False  False           False          False        False   \n",
       "2       False  False           False           True        False   \n",
       "3       False  False           False          False        False   \n",
       "4       False  False           False           True        False   \n",
       "...       ...    ...             ...            ...          ...   \n",
       "99995   False  False           False          False        False   \n",
       "99996   False  False           False          False        False   \n",
       "99997   False  False           False           True        False   \n",
       "99998   False  False           False          False        False   \n",
       "99999   False  False           False          False        False   \n",
       "\n",
       "      Sunrise_Sunset Civil_Twilight Nautical_Twilight Astronomical_Twilight  \n",
       "0              Night          Night             Night                 Night  \n",
       "1              Night          Night             Night                   Day  \n",
       "2              Night          Night               Day                   Day  \n",
       "3              Night            Day               Day                   Day  \n",
       "4                Day            Day               Day                   Day  \n",
       "...              ...            ...               ...                   ...  \n",
       "99995            Day            Day               Day                   Day  \n",
       "99996            Day            Day               Day                   Day  \n",
       "99997            Day            Day               Day                   Day  \n",
       "99998            Day            Day               Day                   Day  \n",
       "99999            Day            Day               Day                   Day  \n",
       "\n",
       "[100000 rows x 46 columns]"
      ]
     },
     "execution_count": 8,
     "metadata": {},
     "output_type": "execute_result"
    }
   ],
   "source": [
    "dataset"
   ]
  },
  {
   "cell_type": "code",
   "execution_count": 9,
   "metadata": {},
   "outputs": [
    {
     "data": {
      "text/html": [
       "<div>\n",
       "<style scoped>\n",
       "    .dataframe tbody tr th:only-of-type {\n",
       "        vertical-align: middle;\n",
       "    }\n",
       "\n",
       "    .dataframe tbody tr th {\n",
       "        vertical-align: top;\n",
       "    }\n",
       "\n",
       "    .dataframe thead th {\n",
       "        text-align: right;\n",
       "    }\n",
       "</style>\n",
       "<table border=\"1\" class=\"dataframe\">\n",
       "  <thead>\n",
       "    <tr style=\"text-align: right;\">\n",
       "      <th></th>\n",
       "      <th>ID</th>\n",
       "      <th>Source</th>\n",
       "      <th>Severity</th>\n",
       "      <th>Start_Time</th>\n",
       "      <th>End_Time</th>\n",
       "      <th>Start_Lat</th>\n",
       "      <th>Start_Lng</th>\n",
       "      <th>End_Lat</th>\n",
       "      <th>End_Lng</th>\n",
       "      <th>Distance(mi)</th>\n",
       "      <th>...</th>\n",
       "      <th>Roundabout</th>\n",
       "      <th>Station</th>\n",
       "      <th>Stop</th>\n",
       "      <th>Traffic_Calming</th>\n",
       "      <th>Traffic_Signal</th>\n",
       "      <th>Turning_Loop</th>\n",
       "      <th>Sunrise_Sunset</th>\n",
       "      <th>Civil_Twilight</th>\n",
       "      <th>Nautical_Twilight</th>\n",
       "      <th>Astronomical_Twilight</th>\n",
       "    </tr>\n",
       "  </thead>\n",
       "  <tbody>\n",
       "    <tr>\n",
       "      <th>18198</th>\n",
       "      <td>A-18199</td>\n",
       "      <td>Source2</td>\n",
       "      <td>3</td>\n",
       "      <td>2016-11-22 19:14:08</td>\n",
       "      <td>2016-11-22 19:43:49</td>\n",
       "      <td>37.416134</td>\n",
       "      <td>-121.913368</td>\n",
       "      <td>NaN</td>\n",
       "      <td>NaN</td>\n",
       "      <td>0.01</td>\n",
       "      <td>...</td>\n",
       "      <td>False</td>\n",
       "      <td>False</td>\n",
       "      <td>False</td>\n",
       "      <td>False</td>\n",
       "      <td>False</td>\n",
       "      <td>False</td>\n",
       "      <td>Night</td>\n",
       "      <td>Night</td>\n",
       "      <td>Night</td>\n",
       "      <td>Night</td>\n",
       "    </tr>\n",
       "    <tr>\n",
       "      <th>8864</th>\n",
       "      <td>A-8865</td>\n",
       "      <td>Source2</td>\n",
       "      <td>2</td>\n",
       "      <td>2016-12-28 19:03:58</td>\n",
       "      <td>2016-12-28 19:33:39</td>\n",
       "      <td>37.419197</td>\n",
       "      <td>-122.090172</td>\n",
       "      <td>NaN</td>\n",
       "      <td>NaN</td>\n",
       "      <td>0.01</td>\n",
       "      <td>...</td>\n",
       "      <td>False</td>\n",
       "      <td>False</td>\n",
       "      <td>False</td>\n",
       "      <td>False</td>\n",
       "      <td>False</td>\n",
       "      <td>False</td>\n",
       "      <td>Night</td>\n",
       "      <td>Night</td>\n",
       "      <td>Night</td>\n",
       "      <td>Night</td>\n",
       "    </tr>\n",
       "    <tr>\n",
       "      <th>68601</th>\n",
       "      <td>A-68603</td>\n",
       "      <td>Source2</td>\n",
       "      <td>3</td>\n",
       "      <td>2016-11-02 10:01:13</td>\n",
       "      <td>2016-11-02 10:35:00</td>\n",
       "      <td>34.200165</td>\n",
       "      <td>-118.338905</td>\n",
       "      <td>NaN</td>\n",
       "      <td>NaN</td>\n",
       "      <td>0.01</td>\n",
       "      <td>...</td>\n",
       "      <td>False</td>\n",
       "      <td>False</td>\n",
       "      <td>False</td>\n",
       "      <td>False</td>\n",
       "      <td>False</td>\n",
       "      <td>False</td>\n",
       "      <td>Day</td>\n",
       "      <td>Day</td>\n",
       "      <td>Day</td>\n",
       "      <td>Day</td>\n",
       "    </tr>\n",
       "    <tr>\n",
       "      <th>46839</th>\n",
       "      <td>A-46840</td>\n",
       "      <td>Source2</td>\n",
       "      <td>3</td>\n",
       "      <td>2016-07-06 17:19:30</td>\n",
       "      <td>2016-07-06 18:04:30</td>\n",
       "      <td>33.924347</td>\n",
       "      <td>-117.288780</td>\n",
       "      <td>NaN</td>\n",
       "      <td>NaN</td>\n",
       "      <td>0.00</td>\n",
       "      <td>...</td>\n",
       "      <td>False</td>\n",
       "      <td>False</td>\n",
       "      <td>False</td>\n",
       "      <td>False</td>\n",
       "      <td>False</td>\n",
       "      <td>False</td>\n",
       "      <td>Day</td>\n",
       "      <td>Day</td>\n",
       "      <td>Day</td>\n",
       "      <td>Day</td>\n",
       "    </tr>\n",
       "    <tr>\n",
       "      <th>39787</th>\n",
       "      <td>A-39788</td>\n",
       "      <td>Source2</td>\n",
       "      <td>2</td>\n",
       "      <td>2016-05-24 15:06:35</td>\n",
       "      <td>2016-05-24 15:50:00</td>\n",
       "      <td>39.174122</td>\n",
       "      <td>-120.995720</td>\n",
       "      <td>NaN</td>\n",
       "      <td>NaN</td>\n",
       "      <td>0.00</td>\n",
       "      <td>...</td>\n",
       "      <td>False</td>\n",
       "      <td>False</td>\n",
       "      <td>False</td>\n",
       "      <td>False</td>\n",
       "      <td>False</td>\n",
       "      <td>False</td>\n",
       "      <td>Day</td>\n",
       "      <td>Day</td>\n",
       "      <td>Day</td>\n",
       "      <td>Day</td>\n",
       "    </tr>\n",
       "    <tr>\n",
       "      <th>...</th>\n",
       "      <td>...</td>\n",
       "      <td>...</td>\n",
       "      <td>...</td>\n",
       "      <td>...</td>\n",
       "      <td>...</td>\n",
       "      <td>...</td>\n",
       "      <td>...</td>\n",
       "      <td>...</td>\n",
       "      <td>...</td>\n",
       "      <td>...</td>\n",
       "      <td>...</td>\n",
       "      <td>...</td>\n",
       "      <td>...</td>\n",
       "      <td>...</td>\n",
       "      <td>...</td>\n",
       "      <td>...</td>\n",
       "      <td>...</td>\n",
       "      <td>...</td>\n",
       "      <td>...</td>\n",
       "      <td>...</td>\n",
       "      <td>...</td>\n",
       "    </tr>\n",
       "    <tr>\n",
       "      <th>36483</th>\n",
       "      <td>A-36484</td>\n",
       "      <td>Source2</td>\n",
       "      <td>2</td>\n",
       "      <td>2016-04-27 19:06:32</td>\n",
       "      <td>2016-04-27 20:21:32</td>\n",
       "      <td>37.938988</td>\n",
       "      <td>-121.234550</td>\n",
       "      <td>NaN</td>\n",
       "      <td>NaN</td>\n",
       "      <td>0.01</td>\n",
       "      <td>...</td>\n",
       "      <td>False</td>\n",
       "      <td>False</td>\n",
       "      <td>False</td>\n",
       "      <td>False</td>\n",
       "      <td>False</td>\n",
       "      <td>False</td>\n",
       "      <td>Day</td>\n",
       "      <td>Day</td>\n",
       "      <td>Day</td>\n",
       "      <td>Day</td>\n",
       "    </tr>\n",
       "    <tr>\n",
       "      <th>99436</th>\n",
       "      <td>A-99443</td>\n",
       "      <td>Source2</td>\n",
       "      <td>2</td>\n",
       "      <td>2016-04-02 16:25:00</td>\n",
       "      <td>2016-04-02 16:55:00</td>\n",
       "      <td>33.329868</td>\n",
       "      <td>-117.160759</td>\n",
       "      <td>NaN</td>\n",
       "      <td>NaN</td>\n",
       "      <td>0.00</td>\n",
       "      <td>...</td>\n",
       "      <td>False</td>\n",
       "      <td>False</td>\n",
       "      <td>False</td>\n",
       "      <td>False</td>\n",
       "      <td>True</td>\n",
       "      <td>False</td>\n",
       "      <td>Day</td>\n",
       "      <td>Day</td>\n",
       "      <td>Day</td>\n",
       "      <td>Day</td>\n",
       "    </tr>\n",
       "    <tr>\n",
       "      <th>78481</th>\n",
       "      <td>A-78488</td>\n",
       "      <td>Source2</td>\n",
       "      <td>3</td>\n",
       "      <td>2016-09-20 18:05:42</td>\n",
       "      <td>2016-09-20 19:05:05</td>\n",
       "      <td>33.705391</td>\n",
       "      <td>-117.954277</td>\n",
       "      <td>NaN</td>\n",
       "      <td>NaN</td>\n",
       "      <td>0.00</td>\n",
       "      <td>...</td>\n",
       "      <td>False</td>\n",
       "      <td>False</td>\n",
       "      <td>False</td>\n",
       "      <td>False</td>\n",
       "      <td>False</td>\n",
       "      <td>False</td>\n",
       "      <td>Day</td>\n",
       "      <td>Day</td>\n",
       "      <td>Day</td>\n",
       "      <td>Day</td>\n",
       "    </tr>\n",
       "    <tr>\n",
       "      <th>42640</th>\n",
       "      <td>A-42641</td>\n",
       "      <td>Source2</td>\n",
       "      <td>2</td>\n",
       "      <td>2016-06-18 18:47:29</td>\n",
       "      <td>2016-06-18 19:32:29</td>\n",
       "      <td>38.779613</td>\n",
       "      <td>-121.270454</td>\n",
       "      <td>NaN</td>\n",
       "      <td>NaN</td>\n",
       "      <td>0.00</td>\n",
       "      <td>...</td>\n",
       "      <td>False</td>\n",
       "      <td>False</td>\n",
       "      <td>False</td>\n",
       "      <td>False</td>\n",
       "      <td>False</td>\n",
       "      <td>False</td>\n",
       "      <td>Day</td>\n",
       "      <td>Day</td>\n",
       "      <td>Day</td>\n",
       "      <td>Day</td>\n",
       "    </tr>\n",
       "    <tr>\n",
       "      <th>78346</th>\n",
       "      <td>A-78353</td>\n",
       "      <td>Source2</td>\n",
       "      <td>3</td>\n",
       "      <td>2016-09-20 08:37:09</td>\n",
       "      <td>2016-09-20 09:21:56</td>\n",
       "      <td>33.023121</td>\n",
       "      <td>-117.078857</td>\n",
       "      <td>NaN</td>\n",
       "      <td>NaN</td>\n",
       "      <td>0.00</td>\n",
       "      <td>...</td>\n",
       "      <td>False</td>\n",
       "      <td>False</td>\n",
       "      <td>False</td>\n",
       "      <td>False</td>\n",
       "      <td>False</td>\n",
       "      <td>False</td>\n",
       "      <td>Day</td>\n",
       "      <td>Day</td>\n",
       "      <td>Day</td>\n",
       "      <td>Day</td>\n",
       "    </tr>\n",
       "  </tbody>\n",
       "</table>\n",
       "<p>100000 rows × 46 columns</p>\n",
       "</div>"
      ],
      "text/plain": [
       "            ID   Source  Severity           Start_Time             End_Time  \\\n",
       "18198  A-18199  Source2         3  2016-11-22 19:14:08  2016-11-22 19:43:49   \n",
       "8864    A-8865  Source2         2  2016-12-28 19:03:58  2016-12-28 19:33:39   \n",
       "68601  A-68603  Source2         3  2016-11-02 10:01:13  2016-11-02 10:35:00   \n",
       "46839  A-46840  Source2         3  2016-07-06 17:19:30  2016-07-06 18:04:30   \n",
       "39787  A-39788  Source2         2  2016-05-24 15:06:35  2016-05-24 15:50:00   \n",
       "...        ...      ...       ...                  ...                  ...   \n",
       "36483  A-36484  Source2         2  2016-04-27 19:06:32  2016-04-27 20:21:32   \n",
       "99436  A-99443  Source2         2  2016-04-02 16:25:00  2016-04-02 16:55:00   \n",
       "78481  A-78488  Source2         3  2016-09-20 18:05:42  2016-09-20 19:05:05   \n",
       "42640  A-42641  Source2         2  2016-06-18 18:47:29  2016-06-18 19:32:29   \n",
       "78346  A-78353  Source2         3  2016-09-20 08:37:09  2016-09-20 09:21:56   \n",
       "\n",
       "       Start_Lat   Start_Lng  End_Lat  End_Lng  Distance(mi)  ... Roundabout  \\\n",
       "18198  37.416134 -121.913368      NaN      NaN          0.01  ...      False   \n",
       "8864   37.419197 -122.090172      NaN      NaN          0.01  ...      False   \n",
       "68601  34.200165 -118.338905      NaN      NaN          0.01  ...      False   \n",
       "46839  33.924347 -117.288780      NaN      NaN          0.00  ...      False   \n",
       "39787  39.174122 -120.995720      NaN      NaN          0.00  ...      False   \n",
       "...          ...         ...      ...      ...           ...  ...        ...   \n",
       "36483  37.938988 -121.234550      NaN      NaN          0.01  ...      False   \n",
       "99436  33.329868 -117.160759      NaN      NaN          0.00  ...      False   \n",
       "78481  33.705391 -117.954277      NaN      NaN          0.00  ...      False   \n",
       "42640  38.779613 -121.270454      NaN      NaN          0.00  ...      False   \n",
       "78346  33.023121 -117.078857      NaN      NaN          0.00  ...      False   \n",
       "\n",
       "      Station   Stop Traffic_Calming Traffic_Signal Turning_Loop  \\\n",
       "18198   False  False           False          False        False   \n",
       "8864    False  False           False          False        False   \n",
       "68601   False  False           False          False        False   \n",
       "46839   False  False           False          False        False   \n",
       "39787   False  False           False          False        False   \n",
       "...       ...    ...             ...            ...          ...   \n",
       "36483   False  False           False          False        False   \n",
       "99436   False  False           False           True        False   \n",
       "78481   False  False           False          False        False   \n",
       "42640   False  False           False          False        False   \n",
       "78346   False  False           False          False        False   \n",
       "\n",
       "      Sunrise_Sunset Civil_Twilight Nautical_Twilight Astronomical_Twilight  \n",
       "18198          Night          Night             Night                 Night  \n",
       "8864           Night          Night             Night                 Night  \n",
       "68601            Day            Day               Day                   Day  \n",
       "46839            Day            Day               Day                   Day  \n",
       "39787            Day            Day               Day                   Day  \n",
       "...              ...            ...               ...                   ...  \n",
       "36483            Day            Day               Day                   Day  \n",
       "99436            Day            Day               Day                   Day  \n",
       "78481            Day            Day               Day                   Day  \n",
       "42640            Day            Day               Day                   Day  \n",
       "78346            Day            Day               Day                   Day  \n",
       "\n",
       "[100000 rows x 46 columns]"
      ]
     },
     "execution_count": 9,
     "metadata": {},
     "output_type": "execute_result"
    }
   ],
   "source": [
    "shuffle(df)"
   ]
  },
  {
   "cell_type": "markdown",
   "metadata": {},
   "source": [
    "## Методы обработки данных"
   ]
  },
  {
   "cell_type": "markdown",
   "metadata": {},
   "source": [
    "### Функции для обработки данных"
   ]
  },
  {
   "cell_type": "code",
   "execution_count": 10,
   "metadata": {},
   "outputs": [],
   "source": [
    "def conversion_boolean_features(df: pd.DataFrame) -> pd.DataFrame:\n",
    "    bool_df = df.select_dtypes(exclude=['int16', 'int32', 'int64', 'float16', 'float32', 'float64', 'object'])\n",
    "    for column in bool_df.columns:\n",
    "        df[column] = df[column].map({True: 1, False: 0}).astype(int)\n",
    "        \n",
    "    return df"
   ]
  },
  {
   "cell_type": "code",
   "execution_count": 11,
   "metadata": {},
   "outputs": [],
   "source": [
    "def add_column_mean_coordinate(start: pd.Series, end: pd.Series) -> pd.Series:\n",
    "    fill_end = end.fillna(start)\n",
    "    new_series = (start + fill_end) / 2\n",
    "    return new_series\n",
    "\n",
    "def add_mean_coordeenates_parametres(df: pd.DataFrame) -> pd.DataFrame:\n",
    "    df['Lat'] = add_column_mean_coordinate(df['Start_Lat'], df['End_Lat'])\n",
    "    df['Lng'] = add_column_mean_coordinate(df['Start_Lng'], df['End_Lng'])\n",
    "    \n",
    "    return df"
   ]
  },
  {
   "cell_type": "code",
   "execution_count": 12,
   "metadata": {},
   "outputs": [],
   "source": [
    "def fill_num_columns(df: pd.DataFrame) -> pd.DataFrame:\n",
    "    nan_num_column = [\n",
    "        'Wind_Speed(mph)',\n",
    "        'Visibility(mi)',\n",
    "        'Humidity(%)',\n",
    "        'Temperature(F)',\n",
    "        'Pressure(in)',\n",
    "        'Precipitation(in)'\n",
    "        ]\n",
    "    \n",
    "    for col_name in nan_num_column:\n",
    "        df[col_name] = df.groupby('Severity')[col_name].transform(lambda x: x.fillna(x.mean()))\n",
    "        \n",
    "    return df"
   ]
  },
  {
   "cell_type": "code",
   "execution_count": 13,
   "metadata": {},
   "outputs": [],
   "source": [
    "def delete_emissions(df: pd.DataFrame) -> pd.DataFrame:\n",
    "    for col, upper_bound, down_bound in (\n",
    "        ('Distance(mi)', 100, -100),\n",
    "        ('Temperature(F)', 125, -40),\n",
    "        ('Pressure(in)', 32, 18),\n",
    "        ('Visibility(mi)', 85, -85),\n",
    "        ('Wind_Speed(mph)', 100, -100),\n",
    "        (\"Precipitation(in)\",10, -15),\n",
    "    ):\n",
    "        df = df.drop(df[df[col] > upper_bound].index)\n",
    "        df = df.drop(df[df[col] < down_bound].index)\n",
    "        \n",
    "    return df"
   ]
  },
  {
   "cell_type": "code",
   "execution_count": 14,
   "metadata": {},
   "outputs": [],
   "source": [
    "def process_time_parametres(df: pd.DataFrame) -> pd.DataFrame:\n",
    "    df['Start_Time'] = pd.to_datetime(df['Start_Time']).dt.round(\"S\")\n",
    "    df['End_Time'] = pd.to_datetime(df['End_Time']).dt.round(\"S\")\n",
    "    df['Weather_Timestamp'] = pd.to_datetime(df['Weather_Timestamp']).dt.round(\"S\")\n",
    "\n",
    "    df.loc[df['Weather_Timestamp'].isna(), 'Weather_Timestamp'] = df['Start_Time'].loc[df['Weather_Timestamp'].isna()]\n",
    "\n",
    "    df['Start_Date_Year'] = df['Start_Time'].dt.year\n",
    "    df['Start_Date_Month'] = df['Start_Time'].dt.month\n",
    "    df['Start_Date_Day'] = df['Start_Time'].dt.day\n",
    "    df['Start_Date_Hour'] = df['Start_Time'].dt.hour\n",
    "\n",
    "    df['End_Date_Year'] = df['End_Time'].dt.year\n",
    "    df['End_Date_Month'] = df['End_Time'].dt.month\n",
    "    df['End_Date_Day'] = df['End_Time'].dt.day\n",
    "    df['End_Date_Hour'] = df['End_Time'].dt.hour\n",
    "\n",
    "    df['Weather_Datestamp_Year'] = df['Weather_Timestamp'].dt.year\n",
    "    df['Weather_Datestamp_Month'] = df['Weather_Timestamp'].dt.month\n",
    "    df['Weather_Datestamp_Day'] = df['Weather_Timestamp'].dt.day\n",
    "    df['Weather_Datestamp_Hour'] = df['Weather_Timestamp'].dt.hour\n",
    "    \n",
    "    return df"
   ]
  },
  {
   "cell_type": "code",
   "execution_count": 15,
   "metadata": {},
   "outputs": [],
   "source": [
    "new_Twilight_names = {\n",
    "    'Sunrise_Sunset': 'Is_Day',\n",
    "    \"Civil_Twilight\": \"Is_Civil_Day\",\n",
    "    \"Nautical_Twilight\": \"Is_Twilight_Day\",\n",
    "    \"Astronomical_Twilight\": \"Is_Astronomical_Day\"\n",
    "}\n",
    "def rename_Twillight_parametres(df: pd.DataFrame) -> pd.DataFrame:\n",
    "    for column in new_Twilight_names.keys():\n",
    "        df[new_Twilight_names[column]] = df[column].map({'Day': 1.0, 'Night': 0.0}).astype(float)\n",
    "    df.drop(columns=list(new_Twilight_names.keys()), inplace=True)\n",
    "    \n",
    "    return df"
   ]
  },
  {
   "cell_type": "code",
   "execution_count": 16,
   "metadata": {},
   "outputs": [],
   "source": [
    "def rename_Timezone_meanings(df: pd.DataFrame) -> pd.DataFrame:\n",
    "    df['Timezone'] = df['Timezone'].replace({\n",
    "        \"US/Eastern\": \"Easterm\",\n",
    "        \"US/Central\": \"Central\",\n",
    "        \"US/Pacific\": \"Pacific\",\n",
    "        \"US/Mountain\": \"Mountain\"\n",
    "    })\n",
    "    \n",
    "    return df"
   ]
  },
  {
   "cell_type": "code",
   "execution_count": 17,
   "metadata": {},
   "outputs": [],
   "source": [
    "def rename_Wind_Direction_paramentres(df: pd.DataFrame) -> pd.DataFrame:\n",
    "    df['Wind_Direction'] = df['Wind_Direction'].replace({'South': 'S',\n",
    "                                                                     'West': 'W',\n",
    "                                                                     'North': 'N',\n",
    "                                                                     'Variable': 'VAR',\n",
    "                                                                     'East': 'E',\n",
    "                                                                     'Calm': 'CALM'\n",
    "                                                                     })\n",
    "\n",
    "    df['Wind_Direction'].fillna('VAR', inplace=True)\n",
    "    \n",
    "    return df"
   ]
  },
  {
   "cell_type": "code",
   "execution_count": 18,
   "metadata": {},
   "outputs": [],
   "source": [
    "def drop_excess_parametres(df: pd.DataFrame) -> pd.DataFrame:\n",
    "    df = df.drop(columns=['ID',\n",
    "                           'Source',\n",
    "                           'Start_Lat',\n",
    "                           'Start_Lng',\n",
    "                           'End_Lat',\n",
    "                           'End_Lng',\n",
    "                           'Wind_Chill(F)',\n",
    "                           'Country',\n",
    "                           'Zipcode',\n",
    "                           'Airport_Code',\n",
    "                           'Description',\n",
    "                           'Street',\n",
    "                           'Weather_Timestamp',\n",
    "                           'Start_Time',\n",
    "                           'End_Time',\n",
    "                           'Turning_Loop'\n",
    "                           ])\n",
    "    \n",
    "    df = df.dropna()\n",
    "    \n",
    "    return df"
   ]
  },
  {
   "cell_type": "code",
   "execution_count": 19,
   "metadata": {},
   "outputs": [],
   "source": [
    "def rename_columns(df: pd.DataFrame) -> pd.DataFrame:\n",
    "    df = rename_Twillight_parametres(df)\n",
    "    df = rename_Timezone_meanings(df)\n",
    "    df = rename_Wind_Direction_paramentres(df)\n",
    "    \n",
    "    return df"
   ]
  },
  {
   "cell_type": "code",
   "execution_count": 20,
   "metadata": {},
   "outputs": [],
   "source": [
    "def data_condersion(df: pd.DataFrame) -> pd.DataFrame:\n",
    "    \n",
    "    df = conversion_boolean_features(df)\n",
    "    df = add_mean_coordeenates_parametres(df)\n",
    "    df = fill_num_columns(df)\n",
    "    df = delete_emissions(df)\n",
    "    df = process_time_parametres(df)\n",
    "    df = rename_columns(df)\n",
    "    \n",
    "    return df\n",
    "    "
   ]
  },
  {
   "cell_type": "markdown",
   "metadata": {},
   "source": [
    "### Кодирование признаков"
   ]
  },
  {
   "cell_type": "code",
   "execution_count": 21,
   "metadata": {},
   "outputs": [],
   "source": [
    "class WeatherEncoder(TransformerMixin, BaseEstimator):\n",
    "    \"\"\"\n",
    "    A transformer class for encoding weather conditions in a dataset.\n",
    "\n",
    "    It replaces the weather condition words with predefined replacement words and creates binary features\n",
    "    for each unique word in the weather conditions.\n",
    "\n",
    "    Attributes:\n",
    "    -----------\n",
    "    cfg : dict\n",
    "        The configuration settings for the encoder.\n",
    "    words_ : set\n",
    "        A set containing all the unique words found in the weather conditions.\n",
    "    median_ : str\n",
    "        The most frequent weather condition word used as a replacement for missing values.\n",
    "    replacement_words_ : dict\n",
    "        A dictionary containing replacement words for specific weather condition words.\n",
    "\n",
    "    Methods:\n",
    "    --------\n",
    "    fit(X: pd.DataFrame, y: np.ndarray = None) -> 'WeatherEncoder':\n",
    "        Fit the encoder to the input data.\n",
    "\n",
    "    transform(X: pd.DataFrame) -> pd.DataFrame:\n",
    "        Transform the input data by encoding the weather conditions into binary features.\n",
    "\n",
    "    get_feature_names_out() -> List[str]:\n",
    "        Get the names of the generated binary features.\n",
    "\n",
    "    \"\"\"\n",
    "\n",
    "    def __init__(self, cfg=yaml.safe_load(open('config.yaml'))):\n",
    "        self.cfg = cfg\n",
    "        self.words_ = None\n",
    "        self.median_ = None\n",
    "        self.replacement_words_ = None\n",
    "        with open(cfg['type_weather']) as file:\n",
    "            self.replacement_words_ = json.load(file)\n",
    "\n",
    "    def fit(self, X: pd.DataFrame, y: np.ndarray = None) -> 'WeatherEncoder':\n",
    "        \"\"\"\n",
    "        This method processes the weather conditions in the input DataFrame, replaces specific words\n",
    "        with predefined replacement words, handles missing values, and creates a set of unique words.\n",
    "        \"\"\"\n",
    "        self.words_ = set()\n",
    "        Processed_Weather_Condition = X.dropna().apply(\n",
    "            lambda x: ' '.join(\n",
    "                set(\n",
    "                    sorted(\n",
    "                        [\n",
    "                            self.replacement_words_[word] for word in x.split(\" \") if word in self.replacement_words_.keys()\n",
    "                        ]\n",
    "                    )\n",
    "                )\n",
    "            )\n",
    "        )\n",
    "\n",
    "        for index in Processed_Weather_Condition.index:\n",
    "            if 'Mix' in Processed_Weather_Condition[index]:\n",
    "                Processed_Weather_Condition[index] = 'Mix'\n",
    "\n",
    "        X = Processed_Weather_Condition.replace({'': np.nan})\n",
    "        self.median_ = X.mode()[0]\n",
    "        X.fillna(self.median_, inplace=True)\n",
    "\n",
    "        for line in X:\n",
    "            for word in line.split(\" \"):\n",
    "                if word not in self.words_:\n",
    "                    self.words_.add(word)\n",
    "\n",
    "        return self\n",
    "\n",
    "    def transform(self, X: pd.DataFrame) -> pd.DataFrame:\n",
    "        X.fillna(self.median_, inplace=True)\n",
    "        new_columns = np.zeros((len(X), len(self.words_)), dtype=float)\n",
    "        for i, line in enumerate(X):\n",
    "            line_words = set(line.split(\" \"))\n",
    "            for k, word in enumerate(self.words_):\n",
    "                if word in line_words:\n",
    "                    new_columns[i][k] = 1.0\n",
    "        return_columns = pd.DataFrame(new_columns, columns=self.get_feature_names_out(), index=X.index)\n",
    "\n",
    "        return return_columns\n",
    "\n",
    "    def get_feature_names_out(self) -> List[str]:\n",
    "        '''Get the names of the generated binary features.'''\n",
    "        return list(self.words_)\n"
   ]
  },
  {
   "cell_type": "code",
   "execution_count": 22,
   "metadata": {},
   "outputs": [],
   "source": [
    "class CustomEncoder(TransformerMixin, BaseEstimator):\n",
    "    \"\"\"\n",
    "    CustomEncoder is a transformer class that applies various encoding techniques to the input data.\n",
    "    \n",
    "    Attributes:\n",
    "    -----------\n",
    "    encoders : dict\n",
    "        A dictionary containing different encoding techniques as values, with their corresponding names as keys.\n",
    "    columns : dict\n",
    "        A dictionary mapping the names of the encoding techniques to the columns in the input data that need to be encoded.\n",
    "\n",
    "    Methods:\n",
    "    --------\n",
    "    fit(X: pd.DataFrame, y: NDArray = None) -> 'CustomEncoder':\n",
    "        Fit the encoders on the input data.\n",
    "\n",
    "    transform(X: pd.DataFrame, y: NDArray = None) -> pd.DataFrame:\n",
    "        Apply the fitted encoders to transform the input data.\n",
    "\n",
    "    _fit_encoder(encoder: TransformerMixin, X: pd.DataFrame) -> TransformerMixin:\n",
    "        Fit a specific encoder on the input data.\n",
    "    \"\"\"\n",
    "\n",
    "    def __init__(self):\n",
    "        self.encoders = {\n",
    "            'onehot_encoder' : OneHotEncoder(sparse_output=False, min_frequency=5*10**(-4), handle_unknown=\"ignore\"),\n",
    "            'count_encoder_city' : ce.CountEncoder(normalize=True),\n",
    "            'count_encoder_county' : ce.CountEncoder(normalize=True),\n",
    "            'weather_encoder' : WeatherEncoder(),\n",
    "            'label_encoder': LabelEncoder(),\n",
    "        }\n",
    "        \n",
    "        self.columns = {\n",
    "            'onehot_encoder' : ['Timezone', 'Wind_Direction'],\n",
    "            'count_encoder_city' : 'City',\n",
    "            'count_encoder_county' : 'County',\n",
    "            'weather_encoder' : 'Weather_Condition',\n",
    "            'label_encoder': 'State'\n",
    "        }\n",
    "        \n",
    "    def fit(self, X: pd.DataFrame,  y: NDArray = None) -> 'CustomEncoder':\n",
    "        '''Fit the encoders on the input data.'''\n",
    "        for name in self.encoders.keys():\n",
    "            self.encoders[name].fit(X[self.columns[name]])\n",
    "        \n",
    "        return self\n",
    "    \n",
    "    def transform(self, X: pd.DataFrame, y: NDArray = None) -> pd.DataFrame:\n",
    "        '''Apply the fitted encoders to transform the input data.'''\n",
    "        X['City_Encoded'] = self.encoders['count_encoder_city'].transform(X[self.columns['count_encoder_city']])\n",
    "        X['County_Encoded'] = self.encoders['count_encoder_county'].transform(X[self.columns['count_encoder_county']])\n",
    "        \n",
    "        encoded = pd.Series(self.encoders['label_encoder'].transform(X['State']))\n",
    "        encoded.index = X.index\n",
    "        X['State_Encoded'] = encoded\n",
    "        \n",
    "        encoded_categorical_columns = pd.DataFrame(self.encoders['onehot_encoder'].transform(X[self.columns['onehot_encoder']]))\n",
    "        encoded_categorical_columns.columns = self.encoders['onehot_encoder'].get_feature_names_out()\n",
    "        encoded_categorical_columns.index = X.index\n",
    "        for column_name in encoded_categorical_columns.columns:\n",
    "            X[column_name] = encoded_categorical_columns[column_name]\n",
    "            \n",
    "        encoded = self.encoders['weather_encoder'].transform(X[self.columns['weather_encoder']])\n",
    "        for word in self.encoders['weather_encoder'].get_feature_names_out():\n",
    "            X[word] = encoded[word]\n",
    "            \n",
    "        return X\n",
    "        \n",
    "    def _fit_encoder(self, encoder: TransformerMixin, X: pd.DataFrame) -> TransformerMixin:\n",
    "        '''Fit a specific encoder on the input data.'''\n",
    "        encoder.fit(X)\n",
    "        return encoder"
   ]
  },
  {
   "cell_type": "markdown",
   "metadata": {},
   "source": [
    "### Обработка данных"
   ]
  },
  {
   "cell_type": "code",
   "execution_count": 23,
   "metadata": {},
   "outputs": [],
   "source": [
    "df = data_condersion(df)\n",
    "df = drop_excess_parametres(df)"
   ]
  },
  {
   "cell_type": "code",
   "execution_count": 24,
   "metadata": {},
   "outputs": [],
   "source": [
    "target_column = 'Severity'\n",
    "feature_columns = list(df.columns)\n",
    "feature_columns.remove(target_column)\n",
    "\n",
    "X = df[feature_columns]\n",
    "Y = df[target_column]"
   ]
  },
  {
   "cell_type": "code",
   "execution_count": 25,
   "metadata": {},
   "outputs": [],
   "source": [
    "x_train, x_test, y_train, y_test = train_test_split(X, Y, test_size=0.2, random_state=0)"
   ]
  },
  {
   "cell_type": "code",
   "execution_count": 26,
   "metadata": {},
   "outputs": [],
   "source": [
    "encoder = CustomEncoder()\n",
    "\n",
    "encoder.fit(x_train)\n",
    "x_train = encoder.transform(x_train)\n",
    "x_test = encoder.transform(x_test)"
   ]
  },
  {
   "cell_type": "code",
   "execution_count": 27,
   "metadata": {},
   "outputs": [],
   "source": [
    "x_train.drop(columns=['Timezone',\n",
    "                      'Wind_Direction',\n",
    "                      'Weather_Condition',\n",
    "                      'State',\n",
    "                      'County',\n",
    "                      'City'\n",
    "                      ], inplace=True)\n",
    "\n",
    "x_test.drop(columns=['Timezone',\n",
    "                      'Wind_Direction',\n",
    "                      'Weather_Condition',\n",
    "                      'State',\n",
    "                      'County',\n",
    "                      'City'\n",
    "                      ], inplace=True)"
   ]
  },
  {
   "cell_type": "code",
   "execution_count": 28,
   "metadata": {},
   "outputs": [],
   "source": [
    "feature_columns = list(x_train.columns)\n",
    "\n",
    "standard_scaler = StandardScaler()\n",
    "x_train.loc[:, feature_columns] = standard_scaler.fit_transform(x_train)\n",
    "x_test.loc[:, feature_columns] = standard_scaler.fit_transform(x_test)"
   ]
  },
  {
   "cell_type": "markdown",
   "metadata": {},
   "source": [
    "# Модели"
   ]
  },
  {
   "cell_type": "markdown",
   "metadata": {},
   "source": [
    "### KNN"
   ]
  },
  {
   "cell_type": "code",
   "execution_count": 29,
   "metadata": {},
   "outputs": [
    {
     "data": {
      "text/html": [
       "<style>#sk-container-id-1 {color: black;}#sk-container-id-1 pre{padding: 0;}#sk-container-id-1 div.sk-toggleable {background-color: white;}#sk-container-id-1 label.sk-toggleable__label {cursor: pointer;display: block;width: 100%;margin-bottom: 0;padding: 0.3em;box-sizing: border-box;text-align: center;}#sk-container-id-1 label.sk-toggleable__label-arrow:before {content: \"▸\";float: left;margin-right: 0.25em;color: #696969;}#sk-container-id-1 label.sk-toggleable__label-arrow:hover:before {color: black;}#sk-container-id-1 div.sk-estimator:hover label.sk-toggleable__label-arrow:before {color: black;}#sk-container-id-1 div.sk-toggleable__content {max-height: 0;max-width: 0;overflow: hidden;text-align: left;background-color: #f0f8ff;}#sk-container-id-1 div.sk-toggleable__content pre {margin: 0.2em;color: black;border-radius: 0.25em;background-color: #f0f8ff;}#sk-container-id-1 input.sk-toggleable__control:checked~div.sk-toggleable__content {max-height: 200px;max-width: 100%;overflow: auto;}#sk-container-id-1 input.sk-toggleable__control:checked~label.sk-toggleable__label-arrow:before {content: \"▾\";}#sk-container-id-1 div.sk-estimator input.sk-toggleable__control:checked~label.sk-toggleable__label {background-color: #d4ebff;}#sk-container-id-1 div.sk-label input.sk-toggleable__control:checked~label.sk-toggleable__label {background-color: #d4ebff;}#sk-container-id-1 input.sk-hidden--visually {border: 0;clip: rect(1px 1px 1px 1px);clip: rect(1px, 1px, 1px, 1px);height: 1px;margin: -1px;overflow: hidden;padding: 0;position: absolute;width: 1px;}#sk-container-id-1 div.sk-estimator {font-family: monospace;background-color: #f0f8ff;border: 1px dotted black;border-radius: 0.25em;box-sizing: border-box;margin-bottom: 0.5em;}#sk-container-id-1 div.sk-estimator:hover {background-color: #d4ebff;}#sk-container-id-1 div.sk-parallel-item::after {content: \"\";width: 100%;border-bottom: 1px solid gray;flex-grow: 1;}#sk-container-id-1 div.sk-label:hover label.sk-toggleable__label {background-color: #d4ebff;}#sk-container-id-1 div.sk-serial::before {content: \"\";position: absolute;border-left: 1px solid gray;box-sizing: border-box;top: 0;bottom: 0;left: 50%;z-index: 0;}#sk-container-id-1 div.sk-serial {display: flex;flex-direction: column;align-items: center;background-color: white;padding-right: 0.2em;padding-left: 0.2em;position: relative;}#sk-container-id-1 div.sk-item {position: relative;z-index: 1;}#sk-container-id-1 div.sk-parallel {display: flex;align-items: stretch;justify-content: center;background-color: white;position: relative;}#sk-container-id-1 div.sk-item::before, #sk-container-id-1 div.sk-parallel-item::before {content: \"\";position: absolute;border-left: 1px solid gray;box-sizing: border-box;top: 0;bottom: 0;left: 50%;z-index: -1;}#sk-container-id-1 div.sk-parallel-item {display: flex;flex-direction: column;z-index: 1;position: relative;background-color: white;}#sk-container-id-1 div.sk-parallel-item:first-child::after {align-self: flex-end;width: 50%;}#sk-container-id-1 div.sk-parallel-item:last-child::after {align-self: flex-start;width: 50%;}#sk-container-id-1 div.sk-parallel-item:only-child::after {width: 0;}#sk-container-id-1 div.sk-dashed-wrapped {border: 1px dashed gray;margin: 0 0.4em 0.5em 0.4em;box-sizing: border-box;padding-bottom: 0.4em;background-color: white;}#sk-container-id-1 div.sk-label label {font-family: monospace;font-weight: bold;display: inline-block;line-height: 1.2em;}#sk-container-id-1 div.sk-label-container {text-align: center;}#sk-container-id-1 div.sk-container {/* jupyter's `normalize.less` sets `[hidden] { display: none; }` but bootstrap.min.css set `[hidden] { display: none !important; }` so we also need the `!important` here to be able to override the default hidden behavior on the sphinx rendered scikit-learn.org. See: https://github.com/scikit-learn/scikit-learn/issues/21755 */display: inline-block !important;position: relative;}#sk-container-id-1 div.sk-text-repr-fallback {display: none;}</style><div id=\"sk-container-id-1\" class=\"sk-top-container\"><div class=\"sk-text-repr-fallback\"><pre>KNeighborsClassifier(algorithm=&#x27;brute&#x27;, metric=&#x27;euclidean&#x27;, n_neighbors=300)</pre><b>In a Jupyter environment, please rerun this cell to show the HTML representation or trust the notebook. <br />On GitHub, the HTML representation is unable to render, please try loading this page with nbviewer.org.</b></div><div class=\"sk-container\" hidden><div class=\"sk-item\"><div class=\"sk-estimator sk-toggleable\"><input class=\"sk-toggleable__control sk-hidden--visually\" id=\"sk-estimator-id-1\" type=\"checkbox\" checked><label for=\"sk-estimator-id-1\" class=\"sk-toggleable__label sk-toggleable__label-arrow\">KNeighborsClassifier</label><div class=\"sk-toggleable__content\"><pre>KNeighborsClassifier(algorithm=&#x27;brute&#x27;, metric=&#x27;euclidean&#x27;, n_neighbors=300)</pre></div></div></div></div></div>"
      ],
      "text/plain": [
       "KNeighborsClassifier(algorithm='brute', metric='euclidean', n_neighbors=300)"
      ]
     },
     "execution_count": 29,
     "metadata": {},
     "output_type": "execute_result"
    }
   ],
   "source": [
    "knn = KNeighborsClassifier(n_neighbors=300,\n",
    "                           metric=\"euclidean\",\n",
    "                           algorithm=\"brute\",\n",
    "                           weights=\"uniform\",\n",
    "                           )\n",
    "\n",
    "knn.fit(X=x_train, y=y_train)\n"
   ]
  },
  {
   "cell_type": "code",
   "execution_count": 30,
   "metadata": {},
   "outputs": [
    {
     "name": "stdout",
     "output_type": "stream",
     "text": [
      "train=0.6304568785892158\n",
      "test=0.6202357963207643\n"
     ]
    }
   ],
   "source": [
    "y_train_pred = knn.predict(X=x_train)\n",
    "y_test_pred = knn.predict(X=x_test)\n",
    "\n",
    "print(\n",
    "    f\"train={accuracy_score(y_true=y_train, y_pred=y_train_pred)}\"\n",
    "    \"\\n\"\n",
    "    f\"test={accuracy_score(y_true=y_test, y_pred=y_test_pred)}\"\n",
    "    )"
   ]
  },
  {
   "cell_type": "markdown",
   "metadata": {},
   "source": [
    "Результаты: 0.628 на train и 0.622 на test\n",
    "1) при algorithm=\"brute\", weights=\"uniform\" и при различных метриках примерно один и тот же результат на $10^5$, при $10^6$ все примерно также.<br/>\n",
    "2) Ball_Tree дал примерно такой-же результат\n",
    "3) KD-tree не улучшает результат\n",
    "4) при n_neibhors = 300 результаты становятся примерно равными. Из чего можно сделать вывод, что при маленьком числе соседей моель переобучалась. Окончательный результата для обоих датасетов примерно 0.62\n",
    "5) на $10^6$ работает около 22 минут, из чего следует, что для слишком большого датасете не применим"
   ]
  },
  {
   "cell_type": "markdown",
   "metadata": {},
   "source": [
    "### Desision Tree"
   ]
  },
  {
   "cell_type": "code",
   "execution_count": 31,
   "metadata": {},
   "outputs": [],
   "source": [
    "class_weight = {\n",
    "    1: 1.78, \n",
    "    2: 0.50,  \n",
    "    3: 0.95,\n",
    "    4: 1.35\n",
    "    }"
   ]
  },
  {
   "cell_type": "code",
   "execution_count": 32,
   "metadata": {},
   "outputs": [
    {
     "data": {
      "text/html": [
       "<style>#sk-container-id-2 {color: black;}#sk-container-id-2 pre{padding: 0;}#sk-container-id-2 div.sk-toggleable {background-color: white;}#sk-container-id-2 label.sk-toggleable__label {cursor: pointer;display: block;width: 100%;margin-bottom: 0;padding: 0.3em;box-sizing: border-box;text-align: center;}#sk-container-id-2 label.sk-toggleable__label-arrow:before {content: \"▸\";float: left;margin-right: 0.25em;color: #696969;}#sk-container-id-2 label.sk-toggleable__label-arrow:hover:before {color: black;}#sk-container-id-2 div.sk-estimator:hover label.sk-toggleable__label-arrow:before {color: black;}#sk-container-id-2 div.sk-toggleable__content {max-height: 0;max-width: 0;overflow: hidden;text-align: left;background-color: #f0f8ff;}#sk-container-id-2 div.sk-toggleable__content pre {margin: 0.2em;color: black;border-radius: 0.25em;background-color: #f0f8ff;}#sk-container-id-2 input.sk-toggleable__control:checked~div.sk-toggleable__content {max-height: 200px;max-width: 100%;overflow: auto;}#sk-container-id-2 input.sk-toggleable__control:checked~label.sk-toggleable__label-arrow:before {content: \"▾\";}#sk-container-id-2 div.sk-estimator input.sk-toggleable__control:checked~label.sk-toggleable__label {background-color: #d4ebff;}#sk-container-id-2 div.sk-label input.sk-toggleable__control:checked~label.sk-toggleable__label {background-color: #d4ebff;}#sk-container-id-2 input.sk-hidden--visually {border: 0;clip: rect(1px 1px 1px 1px);clip: rect(1px, 1px, 1px, 1px);height: 1px;margin: -1px;overflow: hidden;padding: 0;position: absolute;width: 1px;}#sk-container-id-2 div.sk-estimator {font-family: monospace;background-color: #f0f8ff;border: 1px dotted black;border-radius: 0.25em;box-sizing: border-box;margin-bottom: 0.5em;}#sk-container-id-2 div.sk-estimator:hover {background-color: #d4ebff;}#sk-container-id-2 div.sk-parallel-item::after {content: \"\";width: 100%;border-bottom: 1px solid gray;flex-grow: 1;}#sk-container-id-2 div.sk-label:hover label.sk-toggleable__label {background-color: #d4ebff;}#sk-container-id-2 div.sk-serial::before {content: \"\";position: absolute;border-left: 1px solid gray;box-sizing: border-box;top: 0;bottom: 0;left: 50%;z-index: 0;}#sk-container-id-2 div.sk-serial {display: flex;flex-direction: column;align-items: center;background-color: white;padding-right: 0.2em;padding-left: 0.2em;position: relative;}#sk-container-id-2 div.sk-item {position: relative;z-index: 1;}#sk-container-id-2 div.sk-parallel {display: flex;align-items: stretch;justify-content: center;background-color: white;position: relative;}#sk-container-id-2 div.sk-item::before, #sk-container-id-2 div.sk-parallel-item::before {content: \"\";position: absolute;border-left: 1px solid gray;box-sizing: border-box;top: 0;bottom: 0;left: 50%;z-index: -1;}#sk-container-id-2 div.sk-parallel-item {display: flex;flex-direction: column;z-index: 1;position: relative;background-color: white;}#sk-container-id-2 div.sk-parallel-item:first-child::after {align-self: flex-end;width: 50%;}#sk-container-id-2 div.sk-parallel-item:last-child::after {align-self: flex-start;width: 50%;}#sk-container-id-2 div.sk-parallel-item:only-child::after {width: 0;}#sk-container-id-2 div.sk-dashed-wrapped {border: 1px dashed gray;margin: 0 0.4em 0.5em 0.4em;box-sizing: border-box;padding-bottom: 0.4em;background-color: white;}#sk-container-id-2 div.sk-label label {font-family: monospace;font-weight: bold;display: inline-block;line-height: 1.2em;}#sk-container-id-2 div.sk-label-container {text-align: center;}#sk-container-id-2 div.sk-container {/* jupyter's `normalize.less` sets `[hidden] { display: none; }` but bootstrap.min.css set `[hidden] { display: none !important; }` so we also need the `!important` here to be able to override the default hidden behavior on the sphinx rendered scikit-learn.org. See: https://github.com/scikit-learn/scikit-learn/issues/21755 */display: inline-block !important;position: relative;}#sk-container-id-2 div.sk-text-repr-fallback {display: none;}</style><div id=\"sk-container-id-2\" class=\"sk-top-container\"><div class=\"sk-text-repr-fallback\"><pre>DecisionTreeClassifier(class_weight={1: 1.78, 2: 0.5, 3: 0.95, 4: 1.35},\n",
       "                       max_depth=12, min_samples_leaf=2000, random_state=42)</pre><b>In a Jupyter environment, please rerun this cell to show the HTML representation or trust the notebook. <br />On GitHub, the HTML representation is unable to render, please try loading this page with nbviewer.org.</b></div><div class=\"sk-container\" hidden><div class=\"sk-item\"><div class=\"sk-estimator sk-toggleable\"><input class=\"sk-toggleable__control sk-hidden--visually\" id=\"sk-estimator-id-2\" type=\"checkbox\" checked><label for=\"sk-estimator-id-2\" class=\"sk-toggleable__label sk-toggleable__label-arrow\">DecisionTreeClassifier</label><div class=\"sk-toggleable__content\"><pre>DecisionTreeClassifier(class_weight={1: 1.78, 2: 0.5, 3: 0.95, 4: 1.35},\n",
       "                       max_depth=12, min_samples_leaf=2000, random_state=42)</pre></div></div></div></div></div>"
      ],
      "text/plain": [
       "DecisionTreeClassifier(class_weight={1: 1.78, 2: 0.5, 3: 0.95, 4: 1.35},\n",
       "                       max_depth=12, min_samples_leaf=2000, random_state=42)"
      ]
     },
     "execution_count": 32,
     "metadata": {},
     "output_type": "execute_result"
    }
   ],
   "source": [
    "tree = DecisionTreeClassifier(max_depth=12,\n",
    "                              min_samples_leaf=2000,\n",
    "                              criterion='gini',\n",
    "                              class_weight=class_weight,\n",
    "                              random_state=42\n",
    "                              )\n",
    "tree.fit(X=x_train, y=y_train)"
   ]
  },
  {
   "cell_type": "code",
   "execution_count": 33,
   "metadata": {},
   "outputs": [
    {
     "data": {
      "text/plain": [
       "[Text(0.5416666666666666, 0.9444444444444444, 'x[6] <= 0.01\\ngini = 0.48\\nsamples = 78708\\nvalue = [131.72, 21619.0, 33601.5, 35.1]'),\n",
       " Text(0.3333333333333333, 0.8333333333333334, 'x[6] <= -0.111\\ngini = 0.153\\nsamples = 44388\\nvalue = [129.94, 21223.5, 1749.9, 35.1]'),\n",
       " Text(0.16666666666666666, 0.7222222222222222, 'x[37] <= -0.52\\ngini = 0.536\\nsamples = 4400\\nvalue = [129.94, 1229.5, 1749.9, 35.1]'),\n",
       " Text(0.08333333333333333, 0.6111111111111112, 'gini = 0.546\\nsamples = 2077\\nvalue = [56.96, 672.5, 657.4, 10.8]'),\n",
       " Text(0.25, 0.6111111111111112, 'gini = 0.505\\nsamples = 2323\\nvalue = [72.98, 557.0, 1092.5, 24.3]'),\n",
       " Text(0.5, 0.7222222222222222, 'x[19] <= -1.188\\ngini = 0.0\\nsamples = 39988\\nvalue = [0, 19994, 0, 0]'),\n",
       " Text(0.4166666666666667, 0.6111111111111112, 'gini = 0.0\\nsamples = 2001\\nvalue = [0.0, 1000.5, 0.0, 0.0]'),\n",
       " Text(0.5833333333333334, 0.6111111111111112, 'gini = 0.0\\nsamples = 37987\\nvalue = [0.0, 18993.5, 0.0, 0.0]'),\n",
       " Text(0.75, 0.8333333333333334, 'x[4] <= -2.041\\ngini = 0.024\\nsamples = 34320\\nvalue = [1.78, 395.5, 31851.6, 0.0]'),\n",
       " Text(0.6666666666666666, 0.7222222222222222, 'gini = 0.222\\nsamples = 2225\\nvalue = [1.78, 240.0, 1656.8, 0.0]'),\n",
       " Text(0.8333333333333334, 0.7222222222222222, 'x[2] <= 1.073\\ngini = 0.01\\nsamples = 32095\\nvalue = [0.0, 155.5, 30194.8, 0.0]'),\n",
       " Text(0.75, 0.6111111111111112, 'x[2] <= 0.856\\ngini = 0.003\\nsamples = 29031\\nvalue = [0.0, 40.0, 27503.45, 0.0]'),\n",
       " Text(0.6666666666666666, 0.5, 'x[1] <= -0.994\\ngini = 0.001\\nsamples = 26527\\nvalue = [0.0, 13.5, 25175.0, 0.0]'),\n",
       " Text(0.5833333333333334, 0.3888888888888889, 'gini = 0.01\\nsamples = 2072\\nvalue = [0.0, 10.0, 1949.4, 0.0]'),\n",
       " Text(0.75, 0.3888888888888889, 'x[2] <= 0.639\\ngini = 0.0\\nsamples = 24455\\nvalue = [0.0, 3.5, 23225.6, 0.0]'),\n",
       " Text(0.6666666666666666, 0.2777777777777778, 'x[22] <= 0.832\\ngini = 0.0\\nsamples = 22093\\nvalue = [0.0, 1.0, 20986.45, 0.0]'),\n",
       " Text(0.5833333333333334, 0.16666666666666666, 'gini = 0.0\\nsamples = 17982\\nvalue = [0.0, 0.0, 17082.9, 0.0]'),\n",
       " Text(0.75, 0.16666666666666666, 'x[19] <= -0.76\\ngini = 0.001\\nsamples = 4111\\nvalue = [0.0, 1.0, 3903.55, 0.0]'),\n",
       " Text(0.6666666666666666, 0.05555555555555555, 'gini = 0.0\\nsamples = 2110\\nvalue = [0.0, 0.0, 2004.5, 0.0]'),\n",
       " Text(0.8333333333333334, 0.05555555555555555, 'gini = 0.001\\nsamples = 2001\\nvalue = [0.0, 1.0, 1899.05, 0.0]'),\n",
       " Text(0.8333333333333334, 0.2777777777777778, 'gini = 0.002\\nsamples = 2362\\nvalue = [0.0, 2.5, 2239.15, 0.0]'),\n",
       " Text(0.8333333333333334, 0.5, 'gini = 0.022\\nsamples = 2504\\nvalue = [0.0, 26.5, 2328.45, 0.0]'),\n",
       " Text(0.9166666666666666, 0.6111111111111112, 'gini = 0.079\\nsamples = 3064\\nvalue = [0.0, 115.5, 2691.35, 0.0]')]"
      ]
     },
     "execution_count": 33,
     "metadata": {},
     "output_type": "execute_result"
    },
    {
     "data": {
      "image/png": "[encoded data removed]",
      "text/plain": [
       "<Figure size 1200x800 with 1 Axes>"
      ]
     },
     "metadata": {},
     "output_type": "display_data"
    }
   ],
   "source": [
    "fig, ax = plt.subplots(1, 1, figsize=(12, 8))\n",
    "plot_tree(tree, ax=ax)"
   ]
  },
  {
   "cell_type": "code",
   "execution_count": 34,
   "metadata": {},
   "outputs": [
    {
     "name": "stdout",
     "output_type": "stream",
     "text": [
      "train=0.9657341058088124\n",
      "test=0.9656469153369245\n"
     ]
    }
   ],
   "source": [
    "y_train_pred = tree.predict(X=x_train)\n",
    "y_test_pred = tree.predict(X=x_test)\n",
    "\n",
    "print(\n",
    "    f\"train={accuracy_score(y_true=y_train, y_pred=y_train_pred)}\"\n",
    "    \"\\n\"\n",
    "    f\"test={accuracy_score(y_true=y_test, y_pred=y_test_pred)}\"\n",
    "    )"
   ]
  },
  {
   "cell_type": "markdown",
   "metadata": {},
   "source": [
    "Результаты: \n",
    "1) Desision tree дает достаточно хорошее пресказание, примерно 0.8 на датасете из $10^6$ элементов. Однако совершенно не угадывает Severity=4\n",
    "2) Если поэкспериментировать с количеством листов и максимальной глубиной, то можно улучшить результат. Но все равно Severity=4 не угадывается.\n",
    "3) Изменение с gini на entropy также не изменяет ситуацию\n",
    "4) при увеличении датасета, начинает угадывать 4, однако перестает 1\n",
    "5) при max_depth=10, min_samples_leaf=500, criterion='gini' начал угадывать все 4 позиции, при этом доля правильно угаданных приблизительно 0.89\n",
    "6) Результат получается немного лучше, если поиграться с весами"
   ]
  },
  {
   "cell_type": "markdown",
   "metadata": {},
   "source": [
    "### Random Forest"
   ]
  },
  {
   "cell_type": "code",
   "execution_count": 35,
   "metadata": {},
   "outputs": [
    {
     "data": {
      "text/html": [
       "<style>#sk-container-id-3 {color: black;}#sk-container-id-3 pre{padding: 0;}#sk-container-id-3 div.sk-toggleable {background-color: white;}#sk-container-id-3 label.sk-toggleable__label {cursor: pointer;display: block;width: 100%;margin-bottom: 0;padding: 0.3em;box-sizing: border-box;text-align: center;}#sk-container-id-3 label.sk-toggleable__label-arrow:before {content: \"▸\";float: left;margin-right: 0.25em;color: #696969;}#sk-container-id-3 label.sk-toggleable__label-arrow:hover:before {color: black;}#sk-container-id-3 div.sk-estimator:hover label.sk-toggleable__label-arrow:before {color: black;}#sk-container-id-3 div.sk-toggleable__content {max-height: 0;max-width: 0;overflow: hidden;text-align: left;background-color: #f0f8ff;}#sk-container-id-3 div.sk-toggleable__content pre {margin: 0.2em;color: black;border-radius: 0.25em;background-color: #f0f8ff;}#sk-container-id-3 input.sk-toggleable__control:checked~div.sk-toggleable__content {max-height: 200px;max-width: 100%;overflow: auto;}#sk-container-id-3 input.sk-toggleable__control:checked~label.sk-toggleable__label-arrow:before {content: \"▾\";}#sk-container-id-3 div.sk-estimator input.sk-toggleable__control:checked~label.sk-toggleable__label {background-color: #d4ebff;}#sk-container-id-3 div.sk-label input.sk-toggleable__control:checked~label.sk-toggleable__label {background-color: #d4ebff;}#sk-container-id-3 input.sk-hidden--visually {border: 0;clip: rect(1px 1px 1px 1px);clip: rect(1px, 1px, 1px, 1px);height: 1px;margin: -1px;overflow: hidden;padding: 0;position: absolute;width: 1px;}#sk-container-id-3 div.sk-estimator {font-family: monospace;background-color: #f0f8ff;border: 1px dotted black;border-radius: 0.25em;box-sizing: border-box;margin-bottom: 0.5em;}#sk-container-id-3 div.sk-estimator:hover {background-color: #d4ebff;}#sk-container-id-3 div.sk-parallel-item::after {content: \"\";width: 100%;border-bottom: 1px solid gray;flex-grow: 1;}#sk-container-id-3 div.sk-label:hover label.sk-toggleable__label {background-color: #d4ebff;}#sk-container-id-3 div.sk-serial::before {content: \"\";position: absolute;border-left: 1px solid gray;box-sizing: border-box;top: 0;bottom: 0;left: 50%;z-index: 0;}#sk-container-id-3 div.sk-serial {display: flex;flex-direction: column;align-items: center;background-color: white;padding-right: 0.2em;padding-left: 0.2em;position: relative;}#sk-container-id-3 div.sk-item {position: relative;z-index: 1;}#sk-container-id-3 div.sk-parallel {display: flex;align-items: stretch;justify-content: center;background-color: white;position: relative;}#sk-container-id-3 div.sk-item::before, #sk-container-id-3 div.sk-parallel-item::before {content: \"\";position: absolute;border-left: 1px solid gray;box-sizing: border-box;top: 0;bottom: 0;left: 50%;z-index: -1;}#sk-container-id-3 div.sk-parallel-item {display: flex;flex-direction: column;z-index: 1;position: relative;background-color: white;}#sk-container-id-3 div.sk-parallel-item:first-child::after {align-self: flex-end;width: 50%;}#sk-container-id-3 div.sk-parallel-item:last-child::after {align-self: flex-start;width: 50%;}#sk-container-id-3 div.sk-parallel-item:only-child::after {width: 0;}#sk-container-id-3 div.sk-dashed-wrapped {border: 1px dashed gray;margin: 0 0.4em 0.5em 0.4em;box-sizing: border-box;padding-bottom: 0.4em;background-color: white;}#sk-container-id-3 div.sk-label label {font-family: monospace;font-weight: bold;display: inline-block;line-height: 1.2em;}#sk-container-id-3 div.sk-label-container {text-align: center;}#sk-container-id-3 div.sk-container {/* jupyter's `normalize.less` sets `[hidden] { display: none; }` but bootstrap.min.css set `[hidden] { display: none !important; }` so we also need the `!important` here to be able to override the default hidden behavior on the sphinx rendered scikit-learn.org. See: https://github.com/scikit-learn/scikit-learn/issues/21755 */display: inline-block !important;position: relative;}#sk-container-id-3 div.sk-text-repr-fallback {display: none;}</style><div id=\"sk-container-id-3\" class=\"sk-top-container\"><div class=\"sk-text-repr-fallback\"><pre>RandomForestClassifier(class_weight={1: 1.78, 2: 0.5, 3: 0.95, 4: 1.35},\n",
       "                       max_depth=12, min_samples_leaf=2000, n_estimators=10,\n",
       "                       random_state=0)</pre><b>In a Jupyter environment, please rerun this cell to show the HTML representation or trust the notebook. <br />On GitHub, the HTML representation is unable to render, please try loading this page with nbviewer.org.</b></div><div class=\"sk-container\" hidden><div class=\"sk-item\"><div class=\"sk-estimator sk-toggleable\"><input class=\"sk-toggleable__control sk-hidden--visually\" id=\"sk-estimator-id-3\" type=\"checkbox\" checked><label for=\"sk-estimator-id-3\" class=\"sk-toggleable__label sk-toggleable__label-arrow\">RandomForestClassifier</label><div class=\"sk-toggleable__content\"><pre>RandomForestClassifier(class_weight={1: 1.78, 2: 0.5, 3: 0.95, 4: 1.35},\n",
       "                       max_depth=12, min_samples_leaf=2000, n_estimators=10,\n",
       "                       random_state=0)</pre></div></div></div></div></div>"
      ],
      "text/plain": [
       "RandomForestClassifier(class_weight={1: 1.78, 2: 0.5, 3: 0.95, 4: 1.35},\n",
       "                       max_depth=12, min_samples_leaf=2000, n_estimators=10,\n",
       "                       random_state=0)"
      ]
     },
     "execution_count": 35,
     "metadata": {},
     "output_type": "execute_result"
    }
   ],
   "source": [
    "random_forest = RandomForestClassifier(n_estimators=10,\n",
    "                                       max_depth=12,\n",
    "                                       min_samples_leaf=2000,\n",
    "                                       criterion=\"gini\",\n",
    "                                       class_weight=class_weight,\n",
    "                                       random_state=0,\n",
    "                                       )\n",
    "random_forest.fit(X=x_train, y=y_train)"
   ]
  },
  {
   "cell_type": "code",
   "execution_count": 36,
   "metadata": {},
   "outputs": [
    {
     "name": "stdout",
     "output_type": "stream",
     "text": [
      "train=0.9618717284138842\n",
      "test=0.9590405529017176\n"
     ]
    }
   ],
   "source": [
    "y_train_pred = random_forest.predict(X=x_train)\n",
    "y_test_pred = random_forest.predict(X=x_test)\n",
    "\n",
    "print(\n",
    "    f\"train={accuracy_score(y_true=y_train, y_pred=y_train_pred)}\"\n",
    "    \"\\n\"\n",
    "    f\"test={accuracy_score(y_true=y_test, y_pred=y_test_pred)}\"\n",
    "    )"
   ]
  },
  {
   "cell_type": "markdown",
   "metadata": {},
   "source": [
    "Результаты: <br/>\n",
    "Desision Tree работает лучше, связано это, скорее всего, с тем, что сильно много 2 и 3. Random Forest берет определенные части, при этом еще и пытается использовать различные признаки. В этих частях 2 и 3 слишком много и все сваливается в них."
   ]
  },
  {
   "cell_type": "markdown",
   "metadata": {},
   "source": [
    "### Bagging"
   ]
  },
  {
   "cell_type": "code",
   "execution_count": 37,
   "metadata": {},
   "outputs": [
    {
     "data": {
      "text/html": [
       "<style>#sk-container-id-4 {color: black;}#sk-container-id-4 pre{padding: 0;}#sk-container-id-4 div.sk-toggleable {background-color: white;}#sk-container-id-4 label.sk-toggleable__label {cursor: pointer;display: block;width: 100%;margin-bottom: 0;padding: 0.3em;box-sizing: border-box;text-align: center;}#sk-container-id-4 label.sk-toggleable__label-arrow:before {content: \"▸\";float: left;margin-right: 0.25em;color: #696969;}#sk-container-id-4 label.sk-toggleable__label-arrow:hover:before {color: black;}#sk-container-id-4 div.sk-estimator:hover label.sk-toggleable__label-arrow:before {color: black;}#sk-container-id-4 div.sk-toggleable__content {max-height: 0;max-width: 0;overflow: hidden;text-align: left;background-color: #f0f8ff;}#sk-container-id-4 div.sk-toggleable__content pre {margin: 0.2em;color: black;border-radius: 0.25em;background-color: #f0f8ff;}#sk-container-id-4 input.sk-toggleable__control:checked~div.sk-toggleable__content {max-height: 200px;max-width: 100%;overflow: auto;}#sk-container-id-4 input.sk-toggleable__control:checked~label.sk-toggleable__label-arrow:before {content: \"▾\";}#sk-container-id-4 div.sk-estimator input.sk-toggleable__control:checked~label.sk-toggleable__label {background-color: #d4ebff;}#sk-container-id-4 div.sk-label input.sk-toggleable__control:checked~label.sk-toggleable__label {background-color: #d4ebff;}#sk-container-id-4 input.sk-hidden--visually {border: 0;clip: rect(1px 1px 1px 1px);clip: rect(1px, 1px, 1px, 1px);height: 1px;margin: -1px;overflow: hidden;padding: 0;position: absolute;width: 1px;}#sk-container-id-4 div.sk-estimator {font-family: monospace;background-color: #f0f8ff;border: 1px dotted black;border-radius: 0.25em;box-sizing: border-box;margin-bottom: 0.5em;}#sk-container-id-4 div.sk-estimator:hover {background-color: #d4ebff;}#sk-container-id-4 div.sk-parallel-item::after {content: \"\";width: 100%;border-bottom: 1px solid gray;flex-grow: 1;}#sk-container-id-4 div.sk-label:hover label.sk-toggleable__label {background-color: #d4ebff;}#sk-container-id-4 div.sk-serial::before {content: \"\";position: absolute;border-left: 1px solid gray;box-sizing: border-box;top: 0;bottom: 0;left: 50%;z-index: 0;}#sk-container-id-4 div.sk-serial {display: flex;flex-direction: column;align-items: center;background-color: white;padding-right: 0.2em;padding-left: 0.2em;position: relative;}#sk-container-id-4 div.sk-item {position: relative;z-index: 1;}#sk-container-id-4 div.sk-parallel {display: flex;align-items: stretch;justify-content: center;background-color: white;position: relative;}#sk-container-id-4 div.sk-item::before, #sk-container-id-4 div.sk-parallel-item::before {content: \"\";position: absolute;border-left: 1px solid gray;box-sizing: border-box;top: 0;bottom: 0;left: 50%;z-index: -1;}#sk-container-id-4 div.sk-parallel-item {display: flex;flex-direction: column;z-index: 1;position: relative;background-color: white;}#sk-container-id-4 div.sk-parallel-item:first-child::after {align-self: flex-end;width: 50%;}#sk-container-id-4 div.sk-parallel-item:last-child::after {align-self: flex-start;width: 50%;}#sk-container-id-4 div.sk-parallel-item:only-child::after {width: 0;}#sk-container-id-4 div.sk-dashed-wrapped {border: 1px dashed gray;margin: 0 0.4em 0.5em 0.4em;box-sizing: border-box;padding-bottom: 0.4em;background-color: white;}#sk-container-id-4 div.sk-label label {font-family: monospace;font-weight: bold;display: inline-block;line-height: 1.2em;}#sk-container-id-4 div.sk-label-container {text-align: center;}#sk-container-id-4 div.sk-container {/* jupyter's `normalize.less` sets `[hidden] { display: none; }` but bootstrap.min.css set `[hidden] { display: none !important; }` so we also need the `!important` here to be able to override the default hidden behavior on the sphinx rendered scikit-learn.org. See: https://github.com/scikit-learn/scikit-learn/issues/21755 */display: inline-block !important;position: relative;}#sk-container-id-4 div.sk-text-repr-fallback {display: none;}</style><div id=\"sk-container-id-4\" class=\"sk-top-container\"><div class=\"sk-text-repr-fallback\"><pre>BaggingClassifier(estimator=DecisionTreeClassifier(max_depth=12,\n",
       "                                                   min_samples_leaf=2000,\n",
       "                                                   random_state=0),\n",
       "                  max_features=0.9, max_samples=0.8, n_estimators=50,\n",
       "                  random_state=0)</pre><b>In a Jupyter environment, please rerun this cell to show the HTML representation or trust the notebook. <br />On GitHub, the HTML representation is unable to render, please try loading this page with nbviewer.org.</b></div><div class=\"sk-container\" hidden><div class=\"sk-item sk-dashed-wrapped\"><div class=\"sk-label-container\"><div class=\"sk-label sk-toggleable\"><input class=\"sk-toggleable__control sk-hidden--visually\" id=\"sk-estimator-id-4\" type=\"checkbox\" ><label for=\"sk-estimator-id-4\" class=\"sk-toggleable__label sk-toggleable__label-arrow\">BaggingClassifier</label><div class=\"sk-toggleable__content\"><pre>BaggingClassifier(estimator=DecisionTreeClassifier(max_depth=12,\n",
       "                                                   min_samples_leaf=2000,\n",
       "                                                   random_state=0),\n",
       "                  max_features=0.9, max_samples=0.8, n_estimators=50,\n",
       "                  random_state=0)</pre></div></div></div><div class=\"sk-parallel\"><div class=\"sk-parallel-item\"><div class=\"sk-item\"><div class=\"sk-label-container\"><div class=\"sk-label sk-toggleable\"><input class=\"sk-toggleable__control sk-hidden--visually\" id=\"sk-estimator-id-5\" type=\"checkbox\" ><label for=\"sk-estimator-id-5\" class=\"sk-toggleable__label sk-toggleable__label-arrow\">estimator: DecisionTreeClassifier</label><div class=\"sk-toggleable__content\"><pre>DecisionTreeClassifier(max_depth=12, min_samples_leaf=2000, random_state=0)</pre></div></div></div><div class=\"sk-serial\"><div class=\"sk-item\"><div class=\"sk-estimator sk-toggleable\"><input class=\"sk-toggleable__control sk-hidden--visually\" id=\"sk-estimator-id-6\" type=\"checkbox\" ><label for=\"sk-estimator-id-6\" class=\"sk-toggleable__label sk-toggleable__label-arrow\">DecisionTreeClassifier</label><div class=\"sk-toggleable__content\"><pre>DecisionTreeClassifier(max_depth=12, min_samples_leaf=2000, random_state=0)</pre></div></div></div></div></div></div></div></div></div></div>"
      ],
      "text/plain": [
       "BaggingClassifier(estimator=DecisionTreeClassifier(max_depth=12,\n",
       "                                                   min_samples_leaf=2000,\n",
       "                                                   random_state=0),\n",
       "                  max_features=0.9, max_samples=0.8, n_estimators=50,\n",
       "                  random_state=0)"
      ]
     },
     "execution_count": 37,
     "metadata": {},
     "output_type": "execute_result"
    }
   ],
   "source": [
    "bagging = BaggingClassifier(n_estimators=50,\n",
    "                            max_samples=0.8,\n",
    "                            max_features=0.9,\n",
    "                            random_state=0,\n",
    "                            estimator=DecisionTreeClassifier(max_depth=12,\n",
    "                                                             min_samples_leaf=2000,\n",
    "                                                             criterion='gini',\n",
    "                                                             random_state=0\n",
    "                                                             )\n",
    "                            )\n",
    "bagging.fit(X=x_train, y=y_train)"
   ]
  },
  {
   "cell_type": "code",
   "execution_count": 38,
   "metadata": {},
   "outputs": [
    {
     "name": "stdout",
     "output_type": "stream",
     "text": [
      "train=0.9652767190120445\n",
      "test=0.9635633702612054\n"
     ]
    }
   ],
   "source": [
    "y_train_pred = bagging.predict(X=x_train)\n",
    "y_test_pred = bagging.predict(X=x_test)\n",
    "\n",
    "print(\n",
    "    f\"train={accuracy_score(y_true=y_train, y_pred=y_train_pred)}\"\n",
    "    \"\\n\"\n",
    "    f\"test={accuracy_score(y_true=y_test, y_pred=y_test_pred)}\"\n",
    "    )"
   ]
  },
  {
   "cell_type": "markdown",
   "metadata": {},
   "source": [
    "Результаты:\n",
    "1) При использовании Bagging с DesisionTreeClassifier и с n_estimators=3, max_samples=0.8, max_features=0.9 результат демонстрируется очень хороший. На $10^5$ около 0.97. При этом угадывает все типы Severity\n",
    "2) При более большом датасете модель достаточно сильно переобучается. Изменение параметров особо не помогают изменить ситуацию\n",
    "3) при использовании estimator=DessisionTreeClassifier на всем датасете переобучения не возникает, при этом доля угаданных 0.89. Однако, стоит заметить что 1 и 4 угадывается не очень хорошо"
   ]
  },
  {
   "cell_type": "markdown",
   "metadata": {},
   "source": [
    "### SVM"
   ]
  },
  {
   "cell_type": "code",
   "execution_count": 39,
   "metadata": {},
   "outputs": [
    {
     "name": "stderr",
     "output_type": "stream",
     "text": [
      "/opt/homebrew/lib/python3.11/site-packages/sklearn/svm/_base.py:297: ConvergenceWarning: Solver terminated early (max_iter=8000).  Consider pre-processing your data with StandardScaler or MinMaxScaler.\n",
      "  warnings.warn(\n"
     ]
    },
    {
     "data": {
      "text/html": [
       "<style>#sk-container-id-5 {color: black;}#sk-container-id-5 pre{padding: 0;}#sk-container-id-5 div.sk-toggleable {background-color: white;}#sk-container-id-5 label.sk-toggleable__label {cursor: pointer;display: block;width: 100%;margin-bottom: 0;padding: 0.3em;box-sizing: border-box;text-align: center;}#sk-container-id-5 label.sk-toggleable__label-arrow:before {content: \"▸\";float: left;margin-right: 0.25em;color: #696969;}#sk-container-id-5 label.sk-toggleable__label-arrow:hover:before {color: black;}#sk-container-id-5 div.sk-estimator:hover label.sk-toggleable__label-arrow:before {color: black;}#sk-container-id-5 div.sk-toggleable__content {max-height: 0;max-width: 0;overflow: hidden;text-align: left;background-color: #f0f8ff;}#sk-container-id-5 div.sk-toggleable__content pre {margin: 0.2em;color: black;border-radius: 0.25em;background-color: #f0f8ff;}#sk-container-id-5 input.sk-toggleable__control:checked~div.sk-toggleable__content {max-height: 200px;max-width: 100%;overflow: auto;}#sk-container-id-5 input.sk-toggleable__control:checked~label.sk-toggleable__label-arrow:before {content: \"▾\";}#sk-container-id-5 div.sk-estimator input.sk-toggleable__control:checked~label.sk-toggleable__label {background-color: #d4ebff;}#sk-container-id-5 div.sk-label input.sk-toggleable__control:checked~label.sk-toggleable__label {background-color: #d4ebff;}#sk-container-id-5 input.sk-hidden--visually {border: 0;clip: rect(1px 1px 1px 1px);clip: rect(1px, 1px, 1px, 1px);height: 1px;margin: -1px;overflow: hidden;padding: 0;position: absolute;width: 1px;}#sk-container-id-5 div.sk-estimator {font-family: monospace;background-color: #f0f8ff;border: 1px dotted black;border-radius: 0.25em;box-sizing: border-box;margin-bottom: 0.5em;}#sk-container-id-5 div.sk-estimator:hover {background-color: #d4ebff;}#sk-container-id-5 div.sk-parallel-item::after {content: \"\";width: 100%;border-bottom: 1px solid gray;flex-grow: 1;}#sk-container-id-5 div.sk-label:hover label.sk-toggleable__label {background-color: #d4ebff;}#sk-container-id-5 div.sk-serial::before {content: \"\";position: absolute;border-left: 1px solid gray;box-sizing: border-box;top: 0;bottom: 0;left: 50%;z-index: 0;}#sk-container-id-5 div.sk-serial {display: flex;flex-direction: column;align-items: center;background-color: white;padding-right: 0.2em;padding-left: 0.2em;position: relative;}#sk-container-id-5 div.sk-item {position: relative;z-index: 1;}#sk-container-id-5 div.sk-parallel {display: flex;align-items: stretch;justify-content: center;background-color: white;position: relative;}#sk-container-id-5 div.sk-item::before, #sk-container-id-5 div.sk-parallel-item::before {content: \"\";position: absolute;border-left: 1px solid gray;box-sizing: border-box;top: 0;bottom: 0;left: 50%;z-index: -1;}#sk-container-id-5 div.sk-parallel-item {display: flex;flex-direction: column;z-index: 1;position: relative;background-color: white;}#sk-container-id-5 div.sk-parallel-item:first-child::after {align-self: flex-end;width: 50%;}#sk-container-id-5 div.sk-parallel-item:last-child::after {align-self: flex-start;width: 50%;}#sk-container-id-5 div.sk-parallel-item:only-child::after {width: 0;}#sk-container-id-5 div.sk-dashed-wrapped {border: 1px dashed gray;margin: 0 0.4em 0.5em 0.4em;box-sizing: border-box;padding-bottom: 0.4em;background-color: white;}#sk-container-id-5 div.sk-label label {font-family: monospace;font-weight: bold;display: inline-block;line-height: 1.2em;}#sk-container-id-5 div.sk-label-container {text-align: center;}#sk-container-id-5 div.sk-container {/* jupyter's `normalize.less` sets `[hidden] { display: none; }` but bootstrap.min.css set `[hidden] { display: none !important; }` so we also need the `!important` here to be able to override the default hidden behavior on the sphinx rendered scikit-learn.org. See: https://github.com/scikit-learn/scikit-learn/issues/21755 */display: inline-block !important;position: relative;}#sk-container-id-5 div.sk-text-repr-fallback {display: none;}</style><div id=\"sk-container-id-5\" class=\"sk-top-container\"><div class=\"sk-text-repr-fallback\"><pre>SVC(kernel=&#x27;sigmoid&#x27;, max_iter=8000, random_state=0)</pre><b>In a Jupyter environment, please rerun this cell to show the HTML representation or trust the notebook. <br />On GitHub, the HTML representation is unable to render, please try loading this page with nbviewer.org.</b></div><div class=\"sk-container\" hidden><div class=\"sk-item\"><div class=\"sk-estimator sk-toggleable\"><input class=\"sk-toggleable__control sk-hidden--visually\" id=\"sk-estimator-id-7\" type=\"checkbox\" checked><label for=\"sk-estimator-id-7\" class=\"sk-toggleable__label sk-toggleable__label-arrow\">SVC</label><div class=\"sk-toggleable__content\"><pre>SVC(kernel=&#x27;sigmoid&#x27;, max_iter=8000, random_state=0)</pre></div></div></div></div></div>"
      ],
      "text/plain": [
       "SVC(kernel='sigmoid', max_iter=8000, random_state=0)"
      ]
     },
     "execution_count": 39,
     "metadata": {},
     "output_type": "execute_result"
    }
   ],
   "source": [
    "svm = SVC(kernel=\"sigmoid\",\n",
    "          max_iter=8000,\n",
    "          random_state=0\n",
    "          )\n",
    "svm.fit(X=x_train, y=y_train)"
   ]
  },
  {
   "cell_type": "code",
   "execution_count": 40,
   "metadata": {},
   "outputs": [
    {
     "name": "stdout",
     "output_type": "stream",
     "text": [
      "train=0.5084743609290034\n",
      "test=0.5034048175627605\n"
     ]
    }
   ],
   "source": [
    "y_train_pred = svm.predict(X=x_train)\n",
    "y_test_pred = svm.predict(X=x_test)\n",
    "\n",
    "print(\n",
    "    f\"train={accuracy_score(y_true=y_train, y_pred=y_train_pred)}\"\n",
    "    \"\\n\"\n",
    "    f\"test={accuracy_score(y_true=y_test, y_pred=y_test_pred)}\"\n",
    "    )"
   ]
  },
  {
   "cell_type": "markdown",
   "metadata": {},
   "source": [
    "Результаты:\n",
    "1) SVM с линейным ядром не эффективен. Угадывание: 0.54\n",
    "2) SVM с полиномиальным ядром не эффективен. Угадывание: 0.44. Изменение степени полинома не помогает улучшить ситуацию\n",
    "3) SVM c радиально базовой функцией не эффективен. Угадывание: 0.47\n",
    "4) SVM c сигмоидой не эффективен. Угадывание: 0.57"
   ]
  },
  {
   "cell_type": "markdown",
   "metadata": {},
   "source": [
    "### Logistic Regression"
   ]
  },
  {
   "cell_type": "code",
   "execution_count": 41,
   "metadata": {},
   "outputs": [
    {
     "name": "stderr",
     "output_type": "stream",
     "text": [
      "/opt/homebrew/lib/python3.11/site-packages/sklearn/linear_model/_logistic.py:460: ConvergenceWarning: lbfgs failed to converge (status=1):\n",
      "STOP: TOTAL NO. of ITERATIONS REACHED LIMIT.\n",
      "\n",
      "Increase the number of iterations (max_iter) or scale the data as shown in:\n",
      "    https://scikit-learn.org/stable/modules/preprocessing.html\n",
      "Please also refer to the documentation for alternative solver options:\n",
      "    https://scikit-learn.org/stable/modules/linear_model.html#logistic-regression\n",
      "  n_iter_i = _check_optimize_result(\n"
     ]
    },
    {
     "data": {
      "text/html": [
       "<style>#sk-container-id-6 {color: black;}#sk-container-id-6 pre{padding: 0;}#sk-container-id-6 div.sk-toggleable {background-color: white;}#sk-container-id-6 label.sk-toggleable__label {cursor: pointer;display: block;width: 100%;margin-bottom: 0;padding: 0.3em;box-sizing: border-box;text-align: center;}#sk-container-id-6 label.sk-toggleable__label-arrow:before {content: \"▸\";float: left;margin-right: 0.25em;color: #696969;}#sk-container-id-6 label.sk-toggleable__label-arrow:hover:before {color: black;}#sk-container-id-6 div.sk-estimator:hover label.sk-toggleable__label-arrow:before {color: black;}#sk-container-id-6 div.sk-toggleable__content {max-height: 0;max-width: 0;overflow: hidden;text-align: left;background-color: #f0f8ff;}#sk-container-id-6 div.sk-toggleable__content pre {margin: 0.2em;color: black;border-radius: 0.25em;background-color: #f0f8ff;}#sk-container-id-6 input.sk-toggleable__control:checked~div.sk-toggleable__content {max-height: 200px;max-width: 100%;overflow: auto;}#sk-container-id-6 input.sk-toggleable__control:checked~label.sk-toggleable__label-arrow:before {content: \"▾\";}#sk-container-id-6 div.sk-estimator input.sk-toggleable__control:checked~label.sk-toggleable__label {background-color: #d4ebff;}#sk-container-id-6 div.sk-label input.sk-toggleable__control:checked~label.sk-toggleable__label {background-color: #d4ebff;}#sk-container-id-6 input.sk-hidden--visually {border: 0;clip: rect(1px 1px 1px 1px);clip: rect(1px, 1px, 1px, 1px);height: 1px;margin: -1px;overflow: hidden;padding: 0;position: absolute;width: 1px;}#sk-container-id-6 div.sk-estimator {font-family: monospace;background-color: #f0f8ff;border: 1px dotted black;border-radius: 0.25em;box-sizing: border-box;margin-bottom: 0.5em;}#sk-container-id-6 div.sk-estimator:hover {background-color: #d4ebff;}#sk-container-id-6 div.sk-parallel-item::after {content: \"\";width: 100%;border-bottom: 1px solid gray;flex-grow: 1;}#sk-container-id-6 div.sk-label:hover label.sk-toggleable__label {background-color: #d4ebff;}#sk-container-id-6 div.sk-serial::before {content: \"\";position: absolute;border-left: 1px solid gray;box-sizing: border-box;top: 0;bottom: 0;left: 50%;z-index: 0;}#sk-container-id-6 div.sk-serial {display: flex;flex-direction: column;align-items: center;background-color: white;padding-right: 0.2em;padding-left: 0.2em;position: relative;}#sk-container-id-6 div.sk-item {position: relative;z-index: 1;}#sk-container-id-6 div.sk-parallel {display: flex;align-items: stretch;justify-content: center;background-color: white;position: relative;}#sk-container-id-6 div.sk-item::before, #sk-container-id-6 div.sk-parallel-item::before {content: \"\";position: absolute;border-left: 1px solid gray;box-sizing: border-box;top: 0;bottom: 0;left: 50%;z-index: -1;}#sk-container-id-6 div.sk-parallel-item {display: flex;flex-direction: column;z-index: 1;position: relative;background-color: white;}#sk-container-id-6 div.sk-parallel-item:first-child::after {align-self: flex-end;width: 50%;}#sk-container-id-6 div.sk-parallel-item:last-child::after {align-self: flex-start;width: 50%;}#sk-container-id-6 div.sk-parallel-item:only-child::after {width: 0;}#sk-container-id-6 div.sk-dashed-wrapped {border: 1px dashed gray;margin: 0 0.4em 0.5em 0.4em;box-sizing: border-box;padding-bottom: 0.4em;background-color: white;}#sk-container-id-6 div.sk-label label {font-family: monospace;font-weight: bold;display: inline-block;line-height: 1.2em;}#sk-container-id-6 div.sk-label-container {text-align: center;}#sk-container-id-6 div.sk-container {/* jupyter's `normalize.less` sets `[hidden] { display: none; }` but bootstrap.min.css set `[hidden] { display: none !important; }` so we also need the `!important` here to be able to override the default hidden behavior on the sphinx rendered scikit-learn.org. See: https://github.com/scikit-learn/scikit-learn/issues/21755 */display: inline-block !important;position: relative;}#sk-container-id-6 div.sk-text-repr-fallback {display: none;}</style><div id=\"sk-container-id-6\" class=\"sk-top-container\"><div class=\"sk-text-repr-fallback\"><pre>LogisticRegression(max_iter=200, multi_class=&#x27;multinomial&#x27;)</pre><b>In a Jupyter environment, please rerun this cell to show the HTML representation or trust the notebook. <br />On GitHub, the HTML representation is unable to render, please try loading this page with nbviewer.org.</b></div><div class=\"sk-container\" hidden><div class=\"sk-item\"><div class=\"sk-estimator sk-toggleable\"><input class=\"sk-toggleable__control sk-hidden--visually\" id=\"sk-estimator-id-8\" type=\"checkbox\" checked><label for=\"sk-estimator-id-8\" class=\"sk-toggleable__label sk-toggleable__label-arrow\">LogisticRegression</label><div class=\"sk-toggleable__content\"><pre>LogisticRegression(max_iter=200, multi_class=&#x27;multinomial&#x27;)</pre></div></div></div></div></div>"
      ],
      "text/plain": [
       "LogisticRegression(max_iter=200, multi_class='multinomial')"
      ]
     },
     "execution_count": 41,
     "metadata": {},
     "output_type": "execute_result"
    }
   ],
   "source": [
    "logistic_regression = LogisticRegression(multi_class='multinomial', solver='lbfgs', max_iter=200)\n",
    "logistic_regression.fit(X=x_train, y=y_train)"
   ]
  },
  {
   "cell_type": "code",
   "execution_count": 42,
   "metadata": {},
   "outputs": [
    {
     "name": "stdout",
     "output_type": "stream",
     "text": [
      "train=0.6399730649997459\n",
      "test=0.6384287021038724\n"
     ]
    }
   ],
   "source": [
    "y_train_pred = logistic_regression.predict(X=x_train)\n",
    "y_test_pred = logistic_regression.predict(X=x_test)\n",
    "\n",
    "print(\n",
    "    f\"train={accuracy_score(y_true=y_train, y_pred=y_train_pred)}\"\n",
    "    \"\\n\"\n",
    "    f\"test={accuracy_score(y_true=y_test, y_pred=y_test_pred)}\"\n",
    "    )"
   ]
  },
  {
   "cell_type": "code",
   "execution_count": 43,
   "metadata": {},
   "outputs": [],
   "source": [
    "class BinLogisticClassifier(BaseEstimator):\n",
    "    def __init__(self, classes: list | None = None) -> None:\n",
    "        super().__init__()\n",
    "        self.classes_ = classes\n",
    "        self._Regressors = [\n",
    "            LogisticRegression(multi_class=\"auto\", solver=\"lbfgs\"), # x_1, x_2 | x_3, x_4\n",
    "            LogisticRegression(multi_class=\"auto\", solver=\"lbfgs\"), # x_1 | x_2\n",
    "            LogisticRegression(multi_class=\"auto\", solver=\"lbfgs\") # x_3 | x_4\n",
    "        ]\n",
    "        \n",
    "    def fit(self, X: NDArray, y: NDArray) -> None:\n",
    "        train_classes = set(y)\n",
    "        if self.classes_ == None:\n",
    "            self.classes_ = list(train_classes)\n",
    "        elif not self.classes_ == train_classes:\n",
    "            ValueError(\"Not all classes were passed during initialization\") \n",
    "        \n",
    "        first_cls, second_cls = self.classes_[:2], self.classes_[2:]\n",
    "        \n",
    "        y_train_bin = [\n",
    "            0 if cls in first_cls else 1\n",
    "            for cls in y \n",
    "            ]\n",
    "        \n",
    "        self._Regressors[0].fit(X=X, y=y_train_bin)\n",
    "        \n",
    "        mask = y.isin(first_cls)\n",
    "        \n",
    "        first_X = X.loc[mask]\n",
    "        second_X = X.loc[~mask]\n",
    "        \n",
    "        first_y_train_bin = pd.Series([\n",
    "            0 if cls == first_cls[0] else 1\n",
    "            for cls in y.loc[mask]\n",
    "        ])\n",
    "        second_y_train_bin = pd.Series([\n",
    "            0 if cls == second_cls[0] else 1\n",
    "            for cls in y.loc[~mask]\n",
    "        ])\n",
    "        \n",
    "        self._fit(X=first_X, y=first_y_train_bin, bin_cls=0)\n",
    "        self._fit(X=second_X, y=second_y_train_bin, bin_cls=1)\n",
    "        \n",
    "    def _fit(self, X: pd.DataFrame, y: pd.Series, bin_cls: int) -> None:\n",
    "        self._Regressors[1 + bin_cls].fit(X=X, y=y)\n",
    "        \n",
    "    def predict(self, X: NDArray) -> NDArray:\n",
    "        y_bin = self._Regressors[0].predict(X=X)\n",
    "        mask = y_bin == 0\n",
    "        \n",
    "        first_X = X.loc[mask]\n",
    "        second_X = X.loc[~mask]\n",
    "                \n",
    "        y_bins = [None, None]\n",
    "        y_bins[0] = self._predict(first_X, 0)\n",
    "        y_bins[1] = self._predict(second_X, 1)\n",
    "        \n",
    "        k = [-1, -1]\n",
    "        encoded_classes = list()\n",
    "        \n",
    "        for cls in y_bin:\n",
    "            k[cls] += 1\n",
    "            encoded_classes.append((cls, y_bins[cls][k[cls]]))\n",
    "            \n",
    "        return np.array([\n",
    "            self._decode(cls) for cls in encoded_classes\n",
    "        ])\n",
    "            \n",
    "    def _predict(self, X: pd.DataFrame, bin_cls: int) -> NDArray:\n",
    "        return self._Regressors[1 + bin_cls].predict(X=X)\n",
    "    \n",
    "    def _decode(self, code: tuple):\n",
    "        code_book = {\n",
    "            (0, 0): self.classes_[0],\n",
    "            (0, 1): self.classes_[1],\n",
    "            (1, 0): self.classes_[2],\n",
    "            (1, 1): self.classes_[3]\n",
    "        }\n",
    "        return code_book[code]\n",
    "    "
   ]
  },
  {
   "cell_type": "code",
   "execution_count": 44,
   "metadata": {},
   "outputs": [],
   "source": [
    "bin_logistic_regression = BinLogisticClassifier([1, 4, 2, 3])\n",
    "bin_logistic_regression.fit(X=x_train, y=y_train)"
   ]
  },
  {
   "cell_type": "code",
   "execution_count": 45,
   "metadata": {},
   "outputs": [
    {
     "ename": "ValueError",
     "evalue": "Found array with 0 sample(s) (shape=(0, 72)) while a minimum of 1 is required by LogisticRegression.",
     "output_type": "error",
     "traceback": [
      "\u001b[0;31m---------------------------------------------------------------------------\u001b[0m",
      "\u001b[0;31mValueError\u001b[0m                                Traceback (most recent call last)",
      "Cell \u001b[0;32mIn[45], line 1\u001b[0m\n\u001b[0;32m----> 1\u001b[0m y_train_pred \u001b[38;5;241m=\u001b[39m \u001b[43mbin_logistic_regression\u001b[49m\u001b[38;5;241;43m.\u001b[39;49m\u001b[43mpredict\u001b[49m\u001b[43m(\u001b[49m\u001b[43mX\u001b[49m\u001b[38;5;241;43m=\u001b[39;49m\u001b[43mx_train\u001b[49m\u001b[43m)\u001b[49m\n\u001b[1;32m      2\u001b[0m y_test_pred \u001b[38;5;241m=\u001b[39m bin_logistic_regression\u001b[38;5;241m.\u001b[39mpredict(X\u001b[38;5;241m=\u001b[39mx_test)\n\u001b[1;32m      4\u001b[0m \u001b[38;5;28mprint\u001b[39m(\n\u001b[1;32m      5\u001b[0m     \u001b[38;5;124mf\u001b[39m\u001b[38;5;124m\"\u001b[39m\u001b[38;5;124mtrain=\u001b[39m\u001b[38;5;132;01m{\u001b[39;00maccuracy_score(y_true\u001b[38;5;241m=\u001b[39my_train,\u001b[38;5;250m \u001b[39my_pred\u001b[38;5;241m=\u001b[39my_train_pred)\u001b[38;5;132;01m}\u001b[39;00m\u001b[38;5;124m\"\u001b[39m\n\u001b[1;32m      6\u001b[0m     \u001b[38;5;124m\"\u001b[39m\u001b[38;5;130;01m\\n\u001b[39;00m\u001b[38;5;124m\"\u001b[39m\n\u001b[1;32m      7\u001b[0m     \u001b[38;5;124mf\u001b[39m\u001b[38;5;124m\"\u001b[39m\u001b[38;5;124mtest=\u001b[39m\u001b[38;5;132;01m{\u001b[39;00maccuracy_score(y_true\u001b[38;5;241m=\u001b[39my_test,\u001b[38;5;250m \u001b[39my_pred\u001b[38;5;241m=\u001b[39my_test_pred)\u001b[38;5;132;01m}\u001b[39;00m\u001b[38;5;124m\"\u001b[39m\n\u001b[1;32m      8\u001b[0m     )\n",
      "Cell \u001b[0;32mIn[43], line 55\u001b[0m, in \u001b[0;36mBinLogisticClassifier.predict\u001b[0;34m(self, X)\u001b[0m\n\u001b[1;32m     52\u001b[0m second_X \u001b[38;5;241m=\u001b[39m X\u001b[38;5;241m.\u001b[39mloc[\u001b[38;5;241m~\u001b[39mmask]\n\u001b[1;32m     54\u001b[0m y_bins \u001b[38;5;241m=\u001b[39m [\u001b[38;5;28;01mNone\u001b[39;00m, \u001b[38;5;28;01mNone\u001b[39;00m]\n\u001b[0;32m---> 55\u001b[0m y_bins[\u001b[38;5;241m0\u001b[39m] \u001b[38;5;241m=\u001b[39m \u001b[38;5;28;43mself\u001b[39;49m\u001b[38;5;241;43m.\u001b[39;49m\u001b[43m_predict\u001b[49m\u001b[43m(\u001b[49m\u001b[43mfirst_X\u001b[49m\u001b[43m,\u001b[49m\u001b[43m \u001b[49m\u001b[38;5;241;43m0\u001b[39;49m\u001b[43m)\u001b[49m\n\u001b[1;32m     56\u001b[0m y_bins[\u001b[38;5;241m1\u001b[39m] \u001b[38;5;241m=\u001b[39m \u001b[38;5;28mself\u001b[39m\u001b[38;5;241m.\u001b[39m_predict(second_X, \u001b[38;5;241m1\u001b[39m)\n\u001b[1;32m     58\u001b[0m k \u001b[38;5;241m=\u001b[39m [\u001b[38;5;241m-\u001b[39m\u001b[38;5;241m1\u001b[39m, \u001b[38;5;241m-\u001b[39m\u001b[38;5;241m1\u001b[39m]\n",
      "Cell \u001b[0;32mIn[43], line 70\u001b[0m, in \u001b[0;36mBinLogisticClassifier._predict\u001b[0;34m(self, X, bin_cls)\u001b[0m\n\u001b[1;32m     69\u001b[0m \u001b[38;5;28;01mdef\u001b[39;00m \u001b[38;5;21m_predict\u001b[39m(\u001b[38;5;28mself\u001b[39m, X: pd\u001b[38;5;241m.\u001b[39mDataFrame, bin_cls: \u001b[38;5;28mint\u001b[39m) \u001b[38;5;241m-\u001b[39m\u001b[38;5;241m>\u001b[39m NDArray:\n\u001b[0;32m---> 70\u001b[0m     \u001b[38;5;28;01mreturn\u001b[39;00m \u001b[38;5;28;43mself\u001b[39;49m\u001b[38;5;241;43m.\u001b[39;49m\u001b[43m_Regressors\u001b[49m\u001b[43m[\u001b[49m\u001b[38;5;241;43m1\u001b[39;49m\u001b[43m \u001b[49m\u001b[38;5;241;43m+\u001b[39;49m\u001b[43m \u001b[49m\u001b[43mbin_cls\u001b[49m\u001b[43m]\u001b[49m\u001b[38;5;241;43m.\u001b[39;49m\u001b[43mpredict\u001b[49m\u001b[43m(\u001b[49m\u001b[43mX\u001b[49m\u001b[38;5;241;43m=\u001b[39;49m\u001b[43mX\u001b[49m\u001b[43m)\u001b[49m\n",
      "File \u001b[0;32m/opt/homebrew/lib/python3.11/site-packages/sklearn/linear_model/_base.py:451\u001b[0m, in \u001b[0;36mLinearClassifierMixin.predict\u001b[0;34m(self, X)\u001b[0m\n\u001b[1;32m    437\u001b[0m \u001b[38;5;250m\u001b[39m\u001b[38;5;124;03m\"\"\"\u001b[39;00m\n\u001b[1;32m    438\u001b[0m \u001b[38;5;124;03mPredict class labels for samples in X.\u001b[39;00m\n\u001b[1;32m    439\u001b[0m \n\u001b[0;32m   (...)\u001b[0m\n\u001b[1;32m    448\u001b[0m \u001b[38;5;124;03m    Vector containing the class labels for each sample.\u001b[39;00m\n\u001b[1;32m    449\u001b[0m \u001b[38;5;124;03m\"\"\"\u001b[39;00m\n\u001b[1;32m    450\u001b[0m xp, _ \u001b[38;5;241m=\u001b[39m get_namespace(X)\n\u001b[0;32m--> 451\u001b[0m scores \u001b[38;5;241m=\u001b[39m \u001b[38;5;28;43mself\u001b[39;49m\u001b[38;5;241;43m.\u001b[39;49m\u001b[43mdecision_function\u001b[49m\u001b[43m(\u001b[49m\u001b[43mX\u001b[49m\u001b[43m)\u001b[49m\n\u001b[1;32m    452\u001b[0m \u001b[38;5;28;01mif\u001b[39;00m \u001b[38;5;28mlen\u001b[39m(scores\u001b[38;5;241m.\u001b[39mshape) \u001b[38;5;241m==\u001b[39m \u001b[38;5;241m1\u001b[39m:\n\u001b[1;32m    453\u001b[0m     indices \u001b[38;5;241m=\u001b[39m xp\u001b[38;5;241m.\u001b[39mastype(scores \u001b[38;5;241m>\u001b[39m \u001b[38;5;241m0\u001b[39m, \u001b[38;5;28mint\u001b[39m)\n",
      "File \u001b[0;32m/opt/homebrew/lib/python3.11/site-packages/sklearn/linear_model/_base.py:432\u001b[0m, in \u001b[0;36mLinearClassifierMixin.decision_function\u001b[0;34m(self, X)\u001b[0m\n\u001b[1;32m    429\u001b[0m check_is_fitted(\u001b[38;5;28mself\u001b[39m)\n\u001b[1;32m    430\u001b[0m xp, _ \u001b[38;5;241m=\u001b[39m get_namespace(X)\n\u001b[0;32m--> 432\u001b[0m X \u001b[38;5;241m=\u001b[39m \u001b[38;5;28;43mself\u001b[39;49m\u001b[38;5;241;43m.\u001b[39;49m\u001b[43m_validate_data\u001b[49m\u001b[43m(\u001b[49m\u001b[43mX\u001b[49m\u001b[43m,\u001b[49m\u001b[43m \u001b[49m\u001b[43maccept_sparse\u001b[49m\u001b[38;5;241;43m=\u001b[39;49m\u001b[38;5;124;43m\"\u001b[39;49m\u001b[38;5;124;43mcsr\u001b[39;49m\u001b[38;5;124;43m\"\u001b[39;49m\u001b[43m,\u001b[49m\u001b[43m \u001b[49m\u001b[43mreset\u001b[49m\u001b[38;5;241;43m=\u001b[39;49m\u001b[38;5;28;43;01mFalse\u001b[39;49;00m\u001b[43m)\u001b[49m\n\u001b[1;32m    433\u001b[0m scores \u001b[38;5;241m=\u001b[39m safe_sparse_dot(X, \u001b[38;5;28mself\u001b[39m\u001b[38;5;241m.\u001b[39mcoef_\u001b[38;5;241m.\u001b[39mT, dense_output\u001b[38;5;241m=\u001b[39m\u001b[38;5;28;01mTrue\u001b[39;00m) \u001b[38;5;241m+\u001b[39m \u001b[38;5;28mself\u001b[39m\u001b[38;5;241m.\u001b[39mintercept_\n\u001b[1;32m    434\u001b[0m \u001b[38;5;28;01mreturn\u001b[39;00m xp\u001b[38;5;241m.\u001b[39mreshape(scores, (\u001b[38;5;241m-\u001b[39m\u001b[38;5;241m1\u001b[39m,)) \u001b[38;5;28;01mif\u001b[39;00m scores\u001b[38;5;241m.\u001b[39mshape[\u001b[38;5;241m1\u001b[39m] \u001b[38;5;241m==\u001b[39m \u001b[38;5;241m1\u001b[39m \u001b[38;5;28;01melse\u001b[39;00m scores\n",
      "File \u001b[0;32m/opt/homebrew/lib/python3.11/site-packages/sklearn/base.py:605\u001b[0m, in \u001b[0;36mBaseEstimator._validate_data\u001b[0;34m(self, X, y, reset, validate_separately, cast_to_ndarray, **check_params)\u001b[0m\n\u001b[1;32m    603\u001b[0m         out \u001b[38;5;241m=\u001b[39m X, y\n\u001b[1;32m    604\u001b[0m \u001b[38;5;28;01melif\u001b[39;00m \u001b[38;5;129;01mnot\u001b[39;00m no_val_X \u001b[38;5;129;01mand\u001b[39;00m no_val_y:\n\u001b[0;32m--> 605\u001b[0m     out \u001b[38;5;241m=\u001b[39m \u001b[43mcheck_array\u001b[49m\u001b[43m(\u001b[49m\u001b[43mX\u001b[49m\u001b[43m,\u001b[49m\u001b[43m \u001b[49m\u001b[43minput_name\u001b[49m\u001b[38;5;241;43m=\u001b[39;49m\u001b[38;5;124;43m\"\u001b[39;49m\u001b[38;5;124;43mX\u001b[39;49m\u001b[38;5;124;43m\"\u001b[39;49m\u001b[43m,\u001b[49m\u001b[43m \u001b[49m\u001b[38;5;241;43m*\u001b[39;49m\u001b[38;5;241;43m*\u001b[39;49m\u001b[43mcheck_params\u001b[49m\u001b[43m)\u001b[49m\n\u001b[1;32m    606\u001b[0m \u001b[38;5;28;01melif\u001b[39;00m no_val_X \u001b[38;5;129;01mand\u001b[39;00m \u001b[38;5;129;01mnot\u001b[39;00m no_val_y:\n\u001b[1;32m    607\u001b[0m     out \u001b[38;5;241m=\u001b[39m _check_y(y, \u001b[38;5;241m*\u001b[39m\u001b[38;5;241m*\u001b[39mcheck_params)\n",
      "File \u001b[0;32m/opt/homebrew/lib/python3.11/site-packages/sklearn/utils/validation.py:967\u001b[0m, in \u001b[0;36mcheck_array\u001b[0;34m(array, accept_sparse, accept_large_sparse, dtype, order, copy, force_all_finite, ensure_2d, allow_nd, ensure_min_samples, ensure_min_features, estimator, input_name)\u001b[0m\n\u001b[1;32m    965\u001b[0m     n_samples \u001b[38;5;241m=\u001b[39m _num_samples(array)\n\u001b[1;32m    966\u001b[0m     \u001b[38;5;28;01mif\u001b[39;00m n_samples \u001b[38;5;241m<\u001b[39m ensure_min_samples:\n\u001b[0;32m--> 967\u001b[0m         \u001b[38;5;28;01mraise\u001b[39;00m \u001b[38;5;167;01mValueError\u001b[39;00m(\n\u001b[1;32m    968\u001b[0m             \u001b[38;5;124m\"\u001b[39m\u001b[38;5;124mFound array with \u001b[39m\u001b[38;5;132;01m%d\u001b[39;00m\u001b[38;5;124m sample(s) (shape=\u001b[39m\u001b[38;5;132;01m%s\u001b[39;00m\u001b[38;5;124m) while a\u001b[39m\u001b[38;5;124m\"\u001b[39m\n\u001b[1;32m    969\u001b[0m             \u001b[38;5;124m\"\u001b[39m\u001b[38;5;124m minimum of \u001b[39m\u001b[38;5;132;01m%d\u001b[39;00m\u001b[38;5;124m is required\u001b[39m\u001b[38;5;132;01m%s\u001b[39;00m\u001b[38;5;124m.\u001b[39m\u001b[38;5;124m\"\u001b[39m\n\u001b[1;32m    970\u001b[0m             \u001b[38;5;241m%\u001b[39m (n_samples, array\u001b[38;5;241m.\u001b[39mshape, ensure_min_samples, context)\n\u001b[1;32m    971\u001b[0m         )\n\u001b[1;32m    973\u001b[0m \u001b[38;5;28;01mif\u001b[39;00m ensure_min_features \u001b[38;5;241m>\u001b[39m \u001b[38;5;241m0\u001b[39m \u001b[38;5;129;01mand\u001b[39;00m array\u001b[38;5;241m.\u001b[39mndim \u001b[38;5;241m==\u001b[39m \u001b[38;5;241m2\u001b[39m:\n\u001b[1;32m    974\u001b[0m     n_features \u001b[38;5;241m=\u001b[39m array\u001b[38;5;241m.\u001b[39mshape[\u001b[38;5;241m1\u001b[39m]\n",
      "\u001b[0;31mValueError\u001b[0m: Found array with 0 sample(s) (shape=(0, 72)) while a minimum of 1 is required by LogisticRegression."
     ]
    }
   ],
   "source": [
    "y_train_pred = bin_logistic_regression.predict(X=x_train)\n",
    "y_test_pred = bin_logistic_regression.predict(X=x_test)\n",
    "\n",
    "print(\n",
    "    f\"train={accuracy_score(y_true=y_train, y_pred=y_train_pred)}\"\n",
    "    \"\\n\"\n",
    "    f\"test={accuracy_score(y_true=y_test, y_pred=y_test_pred)}\"\n",
    "    )"
   ]
  },
  {
   "cell_type": "code",
   "execution_count": null,
   "metadata": {},
   "outputs": [],
   "source": [
    "class LogisticRegressionReductingClassifier(BaseEstimator):\n",
    "    def __init__(self, classes: list | None = None) -> None:\n",
    "        super().__init__()\n",
    "        self.classes_ = classes\n",
    "        self._Regressors = [\n",
    "            LogisticRegression(multi_class=\"auto\", solver=\"lbfgs\"), # x_1, x_2, x_3 | x_4\n",
    "            LogisticRegression(multi_class=\"auto\", solver=\"lbfgs\"), # x_1,  x_2 | x_3\n",
    "            LogisticRegression(multi_class=\"auto\", solver=\"lbfgs\") # x_1 | x_2\n",
    "        ]\n",
    "        \n",
    "    def fit(self, X: NDArray, y: NDArray) -> None:\n",
    "        train_classes = set(y)\n",
    "        if self.classes_ == None:\n",
    "            self.classes_ = list(train_classes)\n",
    "        elif not self.classes_ == train_classes:\n",
    "            ValueError(\"Not all classes were passed during initialization\") \n",
    "            \n",
    "        for i in range(len(self._Regressors)):\n",
    "            classes = self.classes_[:len(self._Regressors) + 1 - i]\n",
    "            mask = y.isin(classes)\n",
    "            self._fit(X=X[mask], y=y[mask], n_regressor=i, classes=classes)\n",
    "        \n",
    "    def _fit(self, X: pd.DataFrame, y: pd.Series, n_regressor: int, classes: list) -> None:\n",
    "        first_cls, second_cls = classes[:-1], classes[-1]\n",
    "        \n",
    "        y_train_bin = [\n",
    "            0 if cls in first_cls else 1\n",
    "            for cls in y \n",
    "            ]\n",
    "        \n",
    "        self._Regressors[n_regressor].fit(X=X, y=y_train_bin)\n",
    "        \n",
    "    def predict(self, X: pd.DataFrame) -> NDArray:\n",
    "        \n",
    "        y_predict = np.zeros(len(X), dtype=int)\n",
    "        \n",
    "        for i in range(len(self._Regressors)):\n",
    "            y_bin = self._predict(X=X, n_regressor=i)\n",
    "            mask = y_bin == 0\n",
    "            X = X.loc[mask]\n",
    "            k = 0\n",
    "            for idx, y in enumerate(y_predict):\n",
    "                if y == 0:\n",
    "                    if y_bin[k] == 1:\n",
    "                        y_predict[idx] = self.classes_[-(i + 1)]\n",
    "                    k += 1\n",
    "                    \n",
    "            if len(X) == 0: \n",
    "                return y_predict\n",
    "            \n",
    "        return y_predict\n",
    "            \n",
    "            \n",
    "    def _predict(self, X: pd.DataFrame, n_regressor: int) -> NDArray:\n",
    "        return self._Regressors[n_regressor].predict(X=X)\n",
    "    "
   ]
  },
  {
   "cell_type": "code",
   "execution_count": null,
   "metadata": {},
   "outputs": [
    {
     "name": "stderr",
     "output_type": "stream",
     "text": [
      "/opt/homebrew/lib/python3.11/site-packages/sklearn/linear_model/_logistic.py:460: ConvergenceWarning: lbfgs failed to converge (status=1):\n",
      "STOP: TOTAL NO. of ITERATIONS REACHED LIMIT.\n",
      "\n",
      "Increase the number of iterations (max_iter) or scale the data as shown in:\n",
      "    https://scikit-learn.org/stable/modules/preprocessing.html\n",
      "Please also refer to the documentation for alternative solver options:\n",
      "    https://scikit-learn.org/stable/modules/linear_model.html#logistic-regression\n",
      "  n_iter_i = _check_optimize_result(\n"
     ]
    }
   ],
   "source": [
    "logistic_regression_reducting = LogisticRegressionReductingClassifier([1, 2, 3, 4])\n",
    "logistic_regression_reducting.fit(X=x_train, y=y_train)"
   ]
  },
  {
   "cell_type": "code",
   "execution_count": null,
   "metadata": {},
   "outputs": [
    {
     "name": "stdout",
     "output_type": "stream",
     "text": [
      "train=0.640697260761295\n",
      "test=0.6345665209879052\n"
     ]
    }
   ],
   "source": [
    "y_train_pred = logistic_regression_reducting.predict(X=x_train)\n",
    "y_test_pred = logistic_regression_reducting.predict(X=x_test)\n",
    "\n",
    "print(\n",
    "    f\"train={accuracy_score(y_true=y_train, y_pred=y_train_pred)}\"\n",
    "    \"\\n\"\n",
    "    f\"test={accuracy_score(y_true=y_test, y_pred=y_test_pred)}\"\n",
    "    )"
   ]
  },
  {
   "cell_type": "markdown",
   "metadata": {},
   "source": [
    "Результаты:\n",
    "1) На большом датасете логисчтическая регрессия дает достатточно хороший результат, около 0.8\n",
    "2) если брать достаточно большой датасет, то проблема в том, что при первой регрессии склоняется ну тада, из-за чего начинаются проблемы и редко угадывает 1 и 4\n",
    "3) модификации сильно не помогают в исправлении ситуации"
   ]
  },
  {
   "cell_type": "markdown",
   "metadata": {},
   "source": [
    "### Naive Bassian Classifier"
   ]
  },
  {
   "cell_type": "code",
   "execution_count": null,
   "metadata": {},
   "outputs": [
    {
     "data": {
      "text/html": [
       "<style>#sk-container-id-9 {color: black;}#sk-container-id-9 pre{padding: 0;}#sk-container-id-9 div.sk-toggleable {background-color: white;}#sk-container-id-9 label.sk-toggleable__label {cursor: pointer;display: block;width: 100%;margin-bottom: 0;padding: 0.3em;box-sizing: border-box;text-align: center;}#sk-container-id-9 label.sk-toggleable__label-arrow:before {content: \"▸\";float: left;margin-right: 0.25em;color: #696969;}#sk-container-id-9 label.sk-toggleable__label-arrow:hover:before {color: black;}#sk-container-id-9 div.sk-estimator:hover label.sk-toggleable__label-arrow:before {color: black;}#sk-container-id-9 div.sk-toggleable__content {max-height: 0;max-width: 0;overflow: hidden;text-align: left;background-color: #f0f8ff;}#sk-container-id-9 div.sk-toggleable__content pre {margin: 0.2em;color: black;border-radius: 0.25em;background-color: #f0f8ff;}#sk-container-id-9 input.sk-toggleable__control:checked~div.sk-toggleable__content {max-height: 200px;max-width: 100%;overflow: auto;}#sk-container-id-9 input.sk-toggleable__control:checked~label.sk-toggleable__label-arrow:before {content: \"▾\";}#sk-container-id-9 div.sk-estimator input.sk-toggleable__control:checked~label.sk-toggleable__label {background-color: #d4ebff;}#sk-container-id-9 div.sk-label input.sk-toggleable__control:checked~label.sk-toggleable__label {background-color: #d4ebff;}#sk-container-id-9 input.sk-hidden--visually {border: 0;clip: rect(1px 1px 1px 1px);clip: rect(1px, 1px, 1px, 1px);height: 1px;margin: -1px;overflow: hidden;padding: 0;position: absolute;width: 1px;}#sk-container-id-9 div.sk-estimator {font-family: monospace;background-color: #f0f8ff;border: 1px dotted black;border-radius: 0.25em;box-sizing: border-box;margin-bottom: 0.5em;}#sk-container-id-9 div.sk-estimator:hover {background-color: #d4ebff;}#sk-container-id-9 div.sk-parallel-item::after {content: \"\";width: 100%;border-bottom: 1px solid gray;flex-grow: 1;}#sk-container-id-9 div.sk-label:hover label.sk-toggleable__label {background-color: #d4ebff;}#sk-container-id-9 div.sk-serial::before {content: \"\";position: absolute;border-left: 1px solid gray;box-sizing: border-box;top: 0;bottom: 0;left: 50%;z-index: 0;}#sk-container-id-9 div.sk-serial {display: flex;flex-direction: column;align-items: center;background-color: white;padding-right: 0.2em;padding-left: 0.2em;position: relative;}#sk-container-id-9 div.sk-item {position: relative;z-index: 1;}#sk-container-id-9 div.sk-parallel {display: flex;align-items: stretch;justify-content: center;background-color: white;position: relative;}#sk-container-id-9 div.sk-item::before, #sk-container-id-9 div.sk-parallel-item::before {content: \"\";position: absolute;border-left: 1px solid gray;box-sizing: border-box;top: 0;bottom: 0;left: 50%;z-index: -1;}#sk-container-id-9 div.sk-parallel-item {display: flex;flex-direction: column;z-index: 1;position: relative;background-color: white;}#sk-container-id-9 div.sk-parallel-item:first-child::after {align-self: flex-end;width: 50%;}#sk-container-id-9 div.sk-parallel-item:last-child::after {align-self: flex-start;width: 50%;}#sk-container-id-9 div.sk-parallel-item:only-child::after {width: 0;}#sk-container-id-9 div.sk-dashed-wrapped {border: 1px dashed gray;margin: 0 0.4em 0.5em 0.4em;box-sizing: border-box;padding-bottom: 0.4em;background-color: white;}#sk-container-id-9 div.sk-label label {font-family: monospace;font-weight: bold;display: inline-block;line-height: 1.2em;}#sk-container-id-9 div.sk-label-container {text-align: center;}#sk-container-id-9 div.sk-container {/* jupyter's `normalize.less` sets `[hidden] { display: none; }` but bootstrap.min.css set `[hidden] { display: none !important; }` so we also need the `!important` here to be able to override the default hidden behavior on the sphinx rendered scikit-learn.org. See: https://github.com/scikit-learn/scikit-learn/issues/21755 */display: inline-block !important;position: relative;}#sk-container-id-9 div.sk-text-repr-fallback {display: none;}</style><div id=\"sk-container-id-9\" class=\"sk-top-container\"><div class=\"sk-text-repr-fallback\"><pre>GaussianNB()</pre><b>In a Jupyter environment, please rerun this cell to show the HTML representation or trust the notebook. <br />On GitHub, the HTML representation is unable to render, please try loading this page with nbviewer.org.</b></div><div class=\"sk-container\" hidden><div class=\"sk-item\"><div class=\"sk-estimator sk-toggleable\"><input class=\"sk-toggleable__control sk-hidden--visually\" id=\"sk-estimator-id-11\" type=\"checkbox\" checked><label for=\"sk-estimator-id-11\" class=\"sk-toggleable__label sk-toggleable__label-arrow\">GaussianNB</label><div class=\"sk-toggleable__content\"><pre>GaussianNB()</pre></div></div></div></div></div>"
      ],
      "text/plain": [
       "GaussianNB()"
      ]
     },
     "execution_count": 106,
     "metadata": {},
     "output_type": "execute_result"
    }
   ],
   "source": [
    "bassian = GaussianNB()\n",
    "bassian.fit(X=x_train, y=y_train)"
   ]
  },
  {
   "cell_type": "code",
   "execution_count": null,
   "metadata": {},
   "outputs": [
    {
     "name": "stdout",
     "output_type": "stream",
     "text": [
      "train=0.03223306398333079\n",
      "test=0.5547311718670597\n"
     ]
    }
   ],
   "source": [
    "y_train_pred = bassian.predict(X=x_train)\n",
    "y_test_pred = bassian.predict(X=x_test)\n",
    "\n",
    "print(\n",
    "    f\"train={accuracy_score(y_true=y_train, y_pred=y_train_pred)}\"\n",
    "    \"\\n\"\n",
    "    f\"test={accuracy_score(y_true=y_test, y_pred=y_test_pred)}\"\n",
    "    )"
   ]
  },
  {
   "cell_type": "markdown",
   "metadata": {},
   "source": [
    "Результаты: <br/>\n",
    "Все плохо, так как данные не сбалансированы. + не стоит забывать о том, что предполагается, что данные не коррелируют. У нас немного не так"
   ]
  },
  {
   "cell_type": "markdown",
   "metadata": {},
   "source": [
    "### Linear Discriminant Analysis"
   ]
  },
  {
   "cell_type": "code",
   "execution_count": null,
   "metadata": {},
   "outputs": [
    {
     "data": {
      "text/html": [
       "<style>#sk-container-id-10 {color: black;}#sk-container-id-10 pre{padding: 0;}#sk-container-id-10 div.sk-toggleable {background-color: white;}#sk-container-id-10 label.sk-toggleable__label {cursor: pointer;display: block;width: 100%;margin-bottom: 0;padding: 0.3em;box-sizing: border-box;text-align: center;}#sk-container-id-10 label.sk-toggleable__label-arrow:before {content: \"▸\";float: left;margin-right: 0.25em;color: #696969;}#sk-container-id-10 label.sk-toggleable__label-arrow:hover:before {color: black;}#sk-container-id-10 div.sk-estimator:hover label.sk-toggleable__label-arrow:before {color: black;}#sk-container-id-10 div.sk-toggleable__content {max-height: 0;max-width: 0;overflow: hidden;text-align: left;background-color: #f0f8ff;}#sk-container-id-10 div.sk-toggleable__content pre {margin: 0.2em;color: black;border-radius: 0.25em;background-color: #f0f8ff;}#sk-container-id-10 input.sk-toggleable__control:checked~div.sk-toggleable__content {max-height: 200px;max-width: 100%;overflow: auto;}#sk-container-id-10 input.sk-toggleable__control:checked~label.sk-toggleable__label-arrow:before {content: \"▾\";}#sk-container-id-10 div.sk-estimator input.sk-toggleable__control:checked~label.sk-toggleable__label {background-color: #d4ebff;}#sk-container-id-10 div.sk-label input.sk-toggleable__control:checked~label.sk-toggleable__label {background-color: #d4ebff;}#sk-container-id-10 input.sk-hidden--visually {border: 0;clip: rect(1px 1px 1px 1px);clip: rect(1px, 1px, 1px, 1px);height: 1px;margin: -1px;overflow: hidden;padding: 0;position: absolute;width: 1px;}#sk-container-id-10 div.sk-estimator {font-family: monospace;background-color: #f0f8ff;border: 1px dotted black;border-radius: 0.25em;box-sizing: border-box;margin-bottom: 0.5em;}#sk-container-id-10 div.sk-estimator:hover {background-color: #d4ebff;}#sk-container-id-10 div.sk-parallel-item::after {content: \"\";width: 100%;border-bottom: 1px solid gray;flex-grow: 1;}#sk-container-id-10 div.sk-label:hover label.sk-toggleable__label {background-color: #d4ebff;}#sk-container-id-10 div.sk-serial::before {content: \"\";position: absolute;border-left: 1px solid gray;box-sizing: border-box;top: 0;bottom: 0;left: 50%;z-index: 0;}#sk-container-id-10 div.sk-serial {display: flex;flex-direction: column;align-items: center;background-color: white;padding-right: 0.2em;padding-left: 0.2em;position: relative;}#sk-container-id-10 div.sk-item {position: relative;z-index: 1;}#sk-container-id-10 div.sk-parallel {display: flex;align-items: stretch;justify-content: center;background-color: white;position: relative;}#sk-container-id-10 div.sk-item::before, #sk-container-id-10 div.sk-parallel-item::before {content: \"\";position: absolute;border-left: 1px solid gray;box-sizing: border-box;top: 0;bottom: 0;left: 50%;z-index: -1;}#sk-container-id-10 div.sk-parallel-item {display: flex;flex-direction: column;z-index: 1;position: relative;background-color: white;}#sk-container-id-10 div.sk-parallel-item:first-child::after {align-self: flex-end;width: 50%;}#sk-container-id-10 div.sk-parallel-item:last-child::after {align-self: flex-start;width: 50%;}#sk-container-id-10 div.sk-parallel-item:only-child::after {width: 0;}#sk-container-id-10 div.sk-dashed-wrapped {border: 1px dashed gray;margin: 0 0.4em 0.5em 0.4em;box-sizing: border-box;padding-bottom: 0.4em;background-color: white;}#sk-container-id-10 div.sk-label label {font-family: monospace;font-weight: bold;display: inline-block;line-height: 1.2em;}#sk-container-id-10 div.sk-label-container {text-align: center;}#sk-container-id-10 div.sk-container {/* jupyter's `normalize.less` sets `[hidden] { display: none; }` but bootstrap.min.css set `[hidden] { display: none !important; }` so we also need the `!important` here to be able to override the default hidden behavior on the sphinx rendered scikit-learn.org. See: https://github.com/scikit-learn/scikit-learn/issues/21755 */display: inline-block !important;position: relative;}#sk-container-id-10 div.sk-text-repr-fallback {display: none;}</style><div id=\"sk-container-id-10\" class=\"sk-top-container\"><div class=\"sk-text-repr-fallback\"><pre>LinearDiscriminantAnalysis(solver=&#x27;lsqr&#x27;)</pre><b>In a Jupyter environment, please rerun this cell to show the HTML representation or trust the notebook. <br />On GitHub, the HTML representation is unable to render, please try loading this page with nbviewer.org.</b></div><div class=\"sk-container\" hidden><div class=\"sk-item\"><div class=\"sk-estimator sk-toggleable\"><input class=\"sk-toggleable__control sk-hidden--visually\" id=\"sk-estimator-id-12\" type=\"checkbox\" checked><label for=\"sk-estimator-id-12\" class=\"sk-toggleable__label sk-toggleable__label-arrow\">LinearDiscriminantAnalysis</label><div class=\"sk-toggleable__content\"><pre>LinearDiscriminantAnalysis(solver=&#x27;lsqr&#x27;)</pre></div></div></div></div></div>"
      ],
      "text/plain": [
       "LinearDiscriminantAnalysis(solver='lsqr')"
      ]
     },
     "execution_count": 108,
     "metadata": {},
     "output_type": "execute_result"
    }
   ],
   "source": [
    "discriminant_analyse = LinearDiscriminantAnalysis(solver='lsqr')\n",
    "discriminant_analyse.fit(X=x_train, y=y_train)"
   ]
  },
  {
   "cell_type": "code",
   "execution_count": null,
   "metadata": {},
   "outputs": [
    {
     "name": "stdout",
     "output_type": "stream",
     "text": [
      "train=0.6357041215632464\n",
      "test=0.6286716129687976\n"
     ]
    }
   ],
   "source": [
    "y_train_pred = discriminant_analyse.predict(X=x_train)\n",
    "y_test_pred = discriminant_analyse.predict(X=x_test)\n",
    "\n",
    "print(\n",
    "    f\"train={accuracy_score(y_true=y_train, y_pred=y_train_pred)}\"\n",
    "    \"\\n\"\n",
    "    f\"test={accuracy_score(y_true=y_test, y_pred=y_test_pred)}\"\n",
    "    )"
   ]
  },
  {
   "cell_type": "markdown",
   "metadata": {},
   "source": [
    "Результаты: <br/>\n",
    "Аналогичные проблемы как с Logistic Regression"
   ]
  },
  {
   "cell_type": "markdown",
   "metadata": {},
   "source": [
    "### Gradient Boosting"
   ]
  },
  {
   "cell_type": "code",
   "execution_count": 47,
   "metadata": {},
   "outputs": [
    {
     "data": {
      "text/html": [
       "<style>#sk-container-id-8 {color: black;}#sk-container-id-8 pre{padding: 0;}#sk-container-id-8 div.sk-toggleable {background-color: white;}#sk-container-id-8 label.sk-toggleable__label {cursor: pointer;display: block;width: 100%;margin-bottom: 0;padding: 0.3em;box-sizing: border-box;text-align: center;}#sk-container-id-8 label.sk-toggleable__label-arrow:before {content: \"▸\";float: left;margin-right: 0.25em;color: #696969;}#sk-container-id-8 label.sk-toggleable__label-arrow:hover:before {color: black;}#sk-container-id-8 div.sk-estimator:hover label.sk-toggleable__label-arrow:before {color: black;}#sk-container-id-8 div.sk-toggleable__content {max-height: 0;max-width: 0;overflow: hidden;text-align: left;background-color: #f0f8ff;}#sk-container-id-8 div.sk-toggleable__content pre {margin: 0.2em;color: black;border-radius: 0.25em;background-color: #f0f8ff;}#sk-container-id-8 input.sk-toggleable__control:checked~div.sk-toggleable__content {max-height: 200px;max-width: 100%;overflow: auto;}#sk-container-id-8 input.sk-toggleable__control:checked~label.sk-toggleable__label-arrow:before {content: \"▾\";}#sk-container-id-8 div.sk-estimator input.sk-toggleable__control:checked~label.sk-toggleable__label {background-color: #d4ebff;}#sk-container-id-8 div.sk-label input.sk-toggleable__control:checked~label.sk-toggleable__label {background-color: #d4ebff;}#sk-container-id-8 input.sk-hidden--visually {border: 0;clip: rect(1px 1px 1px 1px);clip: rect(1px, 1px, 1px, 1px);height: 1px;margin: -1px;overflow: hidden;padding: 0;position: absolute;width: 1px;}#sk-container-id-8 div.sk-estimator {font-family: monospace;background-color: #f0f8ff;border: 1px dotted black;border-radius: 0.25em;box-sizing: border-box;margin-bottom: 0.5em;}#sk-container-id-8 div.sk-estimator:hover {background-color: #d4ebff;}#sk-container-id-8 div.sk-parallel-item::after {content: \"\";width: 100%;border-bottom: 1px solid gray;flex-grow: 1;}#sk-container-id-8 div.sk-label:hover label.sk-toggleable__label {background-color: #d4ebff;}#sk-container-id-8 div.sk-serial::before {content: \"\";position: absolute;border-left: 1px solid gray;box-sizing: border-box;top: 0;bottom: 0;left: 50%;z-index: 0;}#sk-container-id-8 div.sk-serial {display: flex;flex-direction: column;align-items: center;background-color: white;padding-right: 0.2em;padding-left: 0.2em;position: relative;}#sk-container-id-8 div.sk-item {position: relative;z-index: 1;}#sk-container-id-8 div.sk-parallel {display: flex;align-items: stretch;justify-content: center;background-color: white;position: relative;}#sk-container-id-8 div.sk-item::before, #sk-container-id-8 div.sk-parallel-item::before {content: \"\";position: absolute;border-left: 1px solid gray;box-sizing: border-box;top: 0;bottom: 0;left: 50%;z-index: -1;}#sk-container-id-8 div.sk-parallel-item {display: flex;flex-direction: column;z-index: 1;position: relative;background-color: white;}#sk-container-id-8 div.sk-parallel-item:first-child::after {align-self: flex-end;width: 50%;}#sk-container-id-8 div.sk-parallel-item:last-child::after {align-self: flex-start;width: 50%;}#sk-container-id-8 div.sk-parallel-item:only-child::after {width: 0;}#sk-container-id-8 div.sk-dashed-wrapped {border: 1px dashed gray;margin: 0 0.4em 0.5em 0.4em;box-sizing: border-box;padding-bottom: 0.4em;background-color: white;}#sk-container-id-8 div.sk-label label {font-family: monospace;font-weight: bold;display: inline-block;line-height: 1.2em;}#sk-container-id-8 div.sk-label-container {text-align: center;}#sk-container-id-8 div.sk-container {/* jupyter's `normalize.less` sets `[hidden] { display: none; }` but bootstrap.min.css set `[hidden] { display: none !important; }` so we also need the `!important` here to be able to override the default hidden behavior on the sphinx rendered scikit-learn.org. See: https://github.com/scikit-learn/scikit-learn/issues/21755 */display: inline-block !important;position: relative;}#sk-container-id-8 div.sk-text-repr-fallback {display: none;}</style><div id=\"sk-container-id-8\" class=\"sk-top-container\"><div class=\"sk-text-repr-fallback\"><pre>GradientBoostingClassifier()</pre><b>In a Jupyter environment, please rerun this cell to show the HTML representation or trust the notebook. <br />On GitHub, the HTML representation is unable to render, please try loading this page with nbviewer.org.</b></div><div class=\"sk-container\" hidden><div class=\"sk-item\"><div class=\"sk-estimator sk-toggleable\"><input class=\"sk-toggleable__control sk-hidden--visually\" id=\"sk-estimator-id-10\" type=\"checkbox\" checked><label for=\"sk-estimator-id-10\" class=\"sk-toggleable__label sk-toggleable__label-arrow\">GradientBoostingClassifier</label><div class=\"sk-toggleable__content\"><pre>GradientBoostingClassifier()</pre></div></div></div></div></div>"
      ],
      "text/plain": [
       "GradientBoostingClassifier()"
      ]
     },
     "execution_count": 47,
     "metadata": {},
     "output_type": "execute_result"
    }
   ],
   "source": [
    "gradient_boosting = GradientBoostingClassifier()\n",
    "gradient_boosting.fit(X=x_train, y=y_train)"
   ]
  },
  {
   "cell_type": "code",
   "execution_count": 48,
   "metadata": {},
   "outputs": [
    {
     "name": "stdout",
     "output_type": "stream",
     "text": [
      "train=0.9861386390201758\n",
      "test=0.9790629128976522\n"
     ]
    }
   ],
   "source": [
    "y_train_pred = gradient_boosting.predict(X=x_train)\n",
    "y_test_pred = gradient_boosting.predict(X=x_test)\n",
    "\n",
    "print(\n",
    "    f\"train={accuracy_score(y_true=y_train, y_pred=y_train_pred)}\"\n",
    "    \"\\n\"\n",
    "    f\"test={accuracy_score(y_true=y_test, y_pred=y_test_pred)}\"\n",
    "    )"
   ]
  },
  {
   "cell_type": "code",
   "execution_count": 49,
   "metadata": {},
   "outputs": [
    {
     "data": {
      "text/html": [
       "<style>#sk-container-id-9 {color: black;}#sk-container-id-9 pre{padding: 0;}#sk-container-id-9 div.sk-toggleable {background-color: white;}#sk-container-id-9 label.sk-toggleable__label {cursor: pointer;display: block;width: 100%;margin-bottom: 0;padding: 0.3em;box-sizing: border-box;text-align: center;}#sk-container-id-9 label.sk-toggleable__label-arrow:before {content: \"▸\";float: left;margin-right: 0.25em;color: #696969;}#sk-container-id-9 label.sk-toggleable__label-arrow:hover:before {color: black;}#sk-container-id-9 div.sk-estimator:hover label.sk-toggleable__label-arrow:before {color: black;}#sk-container-id-9 div.sk-toggleable__content {max-height: 0;max-width: 0;overflow: hidden;text-align: left;background-color: #f0f8ff;}#sk-container-id-9 div.sk-toggleable__content pre {margin: 0.2em;color: black;border-radius: 0.25em;background-color: #f0f8ff;}#sk-container-id-9 input.sk-toggleable__control:checked~div.sk-toggleable__content {max-height: 200px;max-width: 100%;overflow: auto;}#sk-container-id-9 input.sk-toggleable__control:checked~label.sk-toggleable__label-arrow:before {content: \"▾\";}#sk-container-id-9 div.sk-estimator input.sk-toggleable__control:checked~label.sk-toggleable__label {background-color: #d4ebff;}#sk-container-id-9 div.sk-label input.sk-toggleable__control:checked~label.sk-toggleable__label {background-color: #d4ebff;}#sk-container-id-9 input.sk-hidden--visually {border: 0;clip: rect(1px 1px 1px 1px);clip: rect(1px, 1px, 1px, 1px);height: 1px;margin: -1px;overflow: hidden;padding: 0;position: absolute;width: 1px;}#sk-container-id-9 div.sk-estimator {font-family: monospace;background-color: #f0f8ff;border: 1px dotted black;border-radius: 0.25em;box-sizing: border-box;margin-bottom: 0.5em;}#sk-container-id-9 div.sk-estimator:hover {background-color: #d4ebff;}#sk-container-id-9 div.sk-parallel-item::after {content: \"\";width: 100%;border-bottom: 1px solid gray;flex-grow: 1;}#sk-container-id-9 div.sk-label:hover label.sk-toggleable__label {background-color: #d4ebff;}#sk-container-id-9 div.sk-serial::before {content: \"\";position: absolute;border-left: 1px solid gray;box-sizing: border-box;top: 0;bottom: 0;left: 50%;z-index: 0;}#sk-container-id-9 div.sk-serial {display: flex;flex-direction: column;align-items: center;background-color: white;padding-right: 0.2em;padding-left: 0.2em;position: relative;}#sk-container-id-9 div.sk-item {position: relative;z-index: 1;}#sk-container-id-9 div.sk-parallel {display: flex;align-items: stretch;justify-content: center;background-color: white;position: relative;}#sk-container-id-9 div.sk-item::before, #sk-container-id-9 div.sk-parallel-item::before {content: \"\";position: absolute;border-left: 1px solid gray;box-sizing: border-box;top: 0;bottom: 0;left: 50%;z-index: -1;}#sk-container-id-9 div.sk-parallel-item {display: flex;flex-direction: column;z-index: 1;position: relative;background-color: white;}#sk-container-id-9 div.sk-parallel-item:first-child::after {align-self: flex-end;width: 50%;}#sk-container-id-9 div.sk-parallel-item:last-child::after {align-self: flex-start;width: 50%;}#sk-container-id-9 div.sk-parallel-item:only-child::after {width: 0;}#sk-container-id-9 div.sk-dashed-wrapped {border: 1px dashed gray;margin: 0 0.4em 0.5em 0.4em;box-sizing: border-box;padding-bottom: 0.4em;background-color: white;}#sk-container-id-9 div.sk-label label {font-family: monospace;font-weight: bold;display: inline-block;line-height: 1.2em;}#sk-container-id-9 div.sk-label-container {text-align: center;}#sk-container-id-9 div.sk-container {/* jupyter's `normalize.less` sets `[hidden] { display: none; }` but bootstrap.min.css set `[hidden] { display: none !important; }` so we also need the `!important` here to be able to override the default hidden behavior on the sphinx rendered scikit-learn.org. See: https://github.com/scikit-learn/scikit-learn/issues/21755 */display: inline-block !important;position: relative;}#sk-container-id-9 div.sk-text-repr-fallback {display: none;}</style><div id=\"sk-container-id-9\" class=\"sk-top-container\"><div class=\"sk-text-repr-fallback\"><pre>HistGradientBoostingClassifier(l2_regularization=0.1, max_depth=10,\n",
       "                               max_iter=500, max_leaf_nodes=1000,\n",
       "                               min_samples_leaf=800, random_state=0)</pre><b>In a Jupyter environment, please rerun this cell to show the HTML representation or trust the notebook. <br />On GitHub, the HTML representation is unable to render, please try loading this page with nbviewer.org.</b></div><div class=\"sk-container\" hidden><div class=\"sk-item\"><div class=\"sk-estimator sk-toggleable\"><input class=\"sk-toggleable__control sk-hidden--visually\" id=\"sk-estimator-id-11\" type=\"checkbox\" checked><label for=\"sk-estimator-id-11\" class=\"sk-toggleable__label sk-toggleable__label-arrow\">HistGradientBoostingClassifier</label><div class=\"sk-toggleable__content\"><pre>HistGradientBoostingClassifier(l2_regularization=0.1, max_depth=10,\n",
       "                               max_iter=500, max_leaf_nodes=1000,\n",
       "                               min_samples_leaf=800, random_state=0)</pre></div></div></div></div></div>"
      ],
      "text/plain": [
       "HistGradientBoostingClassifier(l2_regularization=0.1, max_depth=10,\n",
       "                               max_iter=500, max_leaf_nodes=1000,\n",
       "                               min_samples_leaf=800, random_state=0)"
      ]
     },
     "execution_count": 49,
     "metadata": {},
     "output_type": "execute_result"
    }
   ],
   "source": [
    "hist_gradient_boosting = HistGradientBoostingClassifier(loss='log_loss',\n",
    "                                                        max_iter=500,\n",
    "                                                        max_leaf_nodes=1000,\n",
    "                                                        min_samples_leaf=800,\n",
    "                                                        max_depth=10,\n",
    "                                                        l2_regularization=10**(-1),\n",
    "                                                        tol=10**(-7),\n",
    "                                                        class_weight=None,\n",
    "                                                        random_state=0\n",
    "                                                        )\n",
    "hist_gradient_boosting.fit(X=x_train, y=y_train)"
   ]
  },
  {
   "cell_type": "code",
   "execution_count": 50,
   "metadata": {},
   "outputs": [
    {
     "name": "stdout",
     "output_type": "stream",
     "text": [
      "train=0.9971667428977995\n",
      "test=0.9833824575668259\n"
     ]
    }
   ],
   "source": [
    "y_train_pred = hist_gradient_boosting.predict(X=x_train)\n",
    "y_test_pred = hist_gradient_boosting.predict(X=x_test)\n",
    "\n",
    "print(\n",
    "    f\"train={accuracy_score(y_true=y_train, y_pred=y_train_pred)}\"\n",
    "    \"\\n\"\n",
    "    f\"test={accuracy_score(y_true=y_test, y_pred=y_test_pred)}\"\n",
    "    )"
   ]
  },
  {
   "cell_type": "markdown",
   "metadata": {},
   "source": [
    "Результаты:\n",
    "1) Обычный градиентный бустинг работает очень долго. На $10^5$ около $1.5$ минуты\n",
    "2) Работает очень хорошо, однако переобучается (оба, с hist даже сильнее)\n",
    "3) немного подкрутив параметры можно немного улучшить результат и снизить переобучение\n",
    "4) Попытка поработать с весами не дает серьезных улучшений\n",
    "5) Работает гораздо дольше, чем деревья решений на всем датасете (около 34 минут, предсказания около 7 минут)\n",
    "6) В целом, результат лучше примерно на 0.05. Однако стоит заметить, что 1 и 4 класс аварий определяются значительно лучше"
   ]
  },
  {
   "cell_type": "code",
   "execution_count": 51,
   "metadata": {},
   "outputs": [
    {
     "data": {
      "text/plain": [
       "({1: 21, 2: 10887, 3: 8763, 4: 7}, {1: 11, 2: 10980, 3: 8681, 4: 6})"
      ]
     },
     "execution_count": 51,
     "metadata": {},
     "output_type": "execute_result"
    }
   ],
   "source": [
    "count_predicted_Severity = dict.fromkeys([1, 2, 3, 4], 0)\n",
    "count_real_Severity = dict.fromkeys([1, 2, 3, 4], 0)\n",
    "\n",
    "for p, r in zip(y_test_pred, y_test):\n",
    "    count_real_Severity[r] += 1\n",
    "    count_predicted_Severity[p] += 1\n",
    "    \n",
    "count_real_Severity, count_predicted_Severity"
   ]
  },
  {
   "cell_type": "markdown",
   "metadata": {},
   "source": [
    "### Выводы:\n",
    "1) лучшие модели для нашей задачи: 1.Gradient Boosting, 2.Bagging, 3.Desision Tree\n",
    "2) Desision Tree значительно превосхоит по времени других алгоритмов, при этом точность не сильно ниже\n",
    "3) KNN показывает не очень хорошие рещультаты, к тому же работает достаточно долго\n",
    "4) SVM плохо применим из-за того, что данные имеют достаточно сложную структуру\n",
    "5) Баесовских классификатор не дает хорошего результата из-за того, что между данные есть определенная классификация и они абсолютно не сбалансированы\n",
    "6) Логисчитеская регрессия и дискриминантный анализ показывают хорошие результаты, но плохо определяют 1 и 4. Модификации логистической регрессии слабо исправляют ситуацию\n",
    "7) Идеальной моделю по времени и точности является Bagging с Desision Tree"
   ]
  },
  {
   "cell_type": "markdown",
   "metadata": {},
   "source": [
    "## Cross-validation"
   ]
  },
  {
   "cell_type": "code",
   "execution_count": 52,
   "metadata": {},
   "outputs": [],
   "source": [
    "from sklearn.pipeline import Pipeline\n",
    "from sklearn.model_selection import cross_val_score, cross_validate\n",
    "from sklearn.preprocessing import StandardScaler\n",
    "from sklearn.ensemble import RandomForestRegressor\n",
    "from sklearn.impute import SimpleImputer\n",
    "from sklearn.pipeline import Pipeline , make_pipeline\n"
   ]
  },
  {
   "cell_type": "code",
   "execution_count": 63,
   "metadata": {},
   "outputs": [],
   "source": [
    "models = [\n",
    "    ('tree', tree),\n",
    "    ('random_forest', random_forest)\n",
    "]"
   ]
  },
  {
   "cell_type": "code",
   "execution_count": 64,
   "metadata": {},
   "outputs": [
    {
     "name": "stdout",
     "output_type": "stream",
     "text": [
      "tree, 0.9574376513807863\n",
      "random_forest, 0.8797713190310329\n"
     ]
    }
   ],
   "source": [
    "for name, model in models:\n",
    "    print(name, end=', ')\n",
    "    pipeline = Pipeline(steps=[\n",
    "        ('model', model)\n",
    "    ])\n",
    "    pipeline.fit(X=x_train, y=y_train)\n",
    "    cv = cross_val_score(pipeline, x_train, y_train, cv=5, scoring='accuracy')\n",
    "    print(cv.mean())\n",
    "    "
   ]
  }
 ],
 "metadata": {
  "kernelspec": {
   "display_name": "Python 3",
   "language": "python",
   "name": "python3"
  },
  "language_info": {
   "codemirror_mode": {
    "name": "ipython",
    "version": 3
   },
   "file_extension": ".py",
   "mimetype": "text/x-python",
   "name": "python",
   "nbconvert_exporter": "python",
   "pygments_lexer": "ipython3",
   "version": "3.11.9"
  }
 },
 "nbformat": 4,
 "nbformat_minor": 2
}
